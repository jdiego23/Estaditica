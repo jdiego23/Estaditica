{
 "cells": [
  {
   "cell_type": "code",
   "execution_count": 1,
   "metadata": {},
   "outputs": [
    {
     "name": "stdout",
     "output_type": "stream",
     "text": [
      "Collecting requests\n",
      "  Downloading requests-2.31.0-py3-none-any.whl (62 kB)\n",
      "                                              0.0/62.6 kB ? eta -:--:--\n",
      "     ---------------------------------------- 62.6/62.6 kB 1.6 MB/s eta 0:00:00\n",
      "Collecting charset-normalizer<4,>=2 (from requests)\n",
      "  Downloading charset_normalizer-3.1.0-cp311-cp311-win_amd64.whl (96 kB)\n",
      "                                              0.0/96.7 kB ? eta -:--:--\n",
      "     ---------------------------------------- 96.7/96.7 kB 5.8 MB/s eta 0:00:00\n",
      "Requirement already satisfied: idna<4,>=2.5 in c:\\users\\j.diego\\appdata\\local\\programs\\python\\python311\\lib\\site-packages (from requests) (3.4)\n",
      "Collecting urllib3<3,>=1.21.1 (from requests)\n",
      "  Downloading urllib3-2.0.2-py3-none-any.whl (123 kB)\n",
      "                                              0.0/123.2 kB ? eta -:--:--\n",
      "     -------------------------------------- 123.2/123.2 kB 7.1 MB/s eta 0:00:00\n",
      "Collecting certifi>=2017.4.17 (from requests)\n",
      "  Downloading certifi-2023.5.7-py3-none-any.whl (156 kB)\n",
      "                                              0.0/157.0 kB ? eta -:--:--\n",
      "     -------------------------------------- 157.0/157.0 kB 9.2 MB/s eta 0:00:00\n",
      "Installing collected packages: urllib3, charset-normalizer, certifi, requests\n",
      "Successfully installed certifi-2023.5.7 charset-normalizer-3.1.0 requests-2.31.0 urllib3-2.0.2\n"
     ]
    }
   ],
   "source": [
    "!pip install requests"
   ]
  },
  {
   "cell_type": "code",
   "execution_count": 2,
   "metadata": {},
   "outputs": [
    {
     "name": "stdout",
     "output_type": "stream",
     "text": [
      "Collecting nltk\n",
      "  Downloading nltk-3.8.1-py3-none-any.whl (1.5 MB)\n",
      "                                              0.0/1.5 MB ? eta -:--:--\n",
      "     ------                                   0.2/1.5 MB 7.3 MB/s eta 0:00:01\n",
      "     ------------------                       0.7/1.5 MB 7.4 MB/s eta 0:00:01\n",
      "     ----------------------------             1.1/1.5 MB 8.6 MB/s eta 0:00:01\n",
      "     -----------------------------------      1.4/1.5 MB 7.8 MB/s eta 0:00:01\n",
      "     ---------------------------------------- 1.5/1.5 MB 7.4 MB/s eta 0:00:00\n",
      "Collecting click (from nltk)\n",
      "  Downloading click-8.1.3-py3-none-any.whl (96 kB)\n",
      "                                              0.0/96.6 kB ? eta -:--:--\n",
      "     ---------------------------------------- 96.6/96.6 kB 5.4 MB/s eta 0:00:00\n",
      "Requirement already satisfied: joblib in c:\\users\\j.diego\\appdata\\local\\programs\\python\\python311\\lib\\site-packages (from nltk) (1.2.0)\n",
      "Collecting regex>=2021.8.3 (from nltk)\n",
      "  Downloading regex-2023.6.3-cp311-cp311-win_amd64.whl (268 kB)\n",
      "                                              0.0/268.0 kB ? eta -:--:--\n",
      "     -------------------------------------- 268.0/268.0 kB 8.3 MB/s eta 0:00:00\n",
      "Collecting tqdm (from nltk)\n",
      "  Downloading tqdm-4.65.0-py3-none-any.whl (77 kB)\n",
      "                                              0.0/77.1 kB ? eta -:--:--\n",
      "     ---------------------------------------- 77.1/77.1 kB 2.2 MB/s eta 0:00:00\n",
      "Requirement already satisfied: colorama in c:\\users\\j.diego\\appdata\\local\\programs\\python\\python311\\lib\\site-packages (from click->nltk) (0.4.6)\n",
      "Installing collected packages: tqdm, regex, click, nltk\n",
      "Successfully installed click-8.1.3 nltk-3.8.1 regex-2023.6.3 tqdm-4.65.0\n"
     ]
    }
   ],
   "source": [
    "!pip install nltk"
   ]
  },
  {
   "cell_type": "code",
   "execution_count": 6,
   "metadata": {},
   "outputs": [],
   "source": [
    "import requests\n",
    "import numpy as np\n",
    "import pandas as pd\n",
    "import re\n",
    "from collections import defaultdict\n",
    "import matplotlib.pyplot as plt\n",
    "import seaborn as sns\n",
    "from sklearn.feature_extraction.text import CountVectorizer\n",
    "from sklearn.feature_extraction.text import TfidfVectorizer\n",
    "from sklearn.linear_model import LogisticRegression\n",
    "from sklearn.ensemble import RandomForestClassifier, GradientBoostingClassifier\n",
    "from sklearn.metrics import confusion_matrix, accuracy_score, precision_score, recall_score\n",
    "from sklearn.preprocessing import StandardScaler\n",
    "import matplotlib.pyplot as plt\n",
    "import nltk\n",
    "from nltk.corpus import stopwords\n",
    "from nltk.tokenize import word_tokenize\n",
    "from sklearn.model_selection import train_test_split"
   ]
  },
  {
   "cell_type": "markdown",
   "metadata": {},
   "source": [
    "## 3. Utilizando el servicio del dataset de datos abiertos https://www.datos.gov.co/Ciencia-Tecnolog-a-e-Innovaci-n/Contenidos-Youtube/v98q-23dp, vamos a hacer un clasificador del tipo de contenido basados en el titulo:"
   ]
  },
  {
   "cell_type": "markdown",
   "metadata": {},
   "source": [
    "### a. Crear un código python para invocar el servicio proporcionado y leer los datos en un dataframe (Puede utilizar la libreria request)"
   ]
  },
  {
   "cell_type": "code",
   "execution_count": 7,
   "metadata": {},
   "outputs": [],
   "source": [
    "url = \"https://www.datos.gov.co/resource/v98q-23dp.json?$query=SELECT%0A%20%20%60titulo%60%2C%0A%20%20%60descripcion%60%2C%0A%20%20%60url_lista_de_reproduccion%60%2C%0A%20%20%60plataforma%60\""
   ]
  },
  {
   "cell_type": "code",
   "execution_count": 8,
   "metadata": {},
   "outputs": [],
   "source": [
    "response = requests.get(url)"
   ]
  },
  {
   "cell_type": "markdown",
   "metadata": {},
   "source": [
    "Verificamos la respuesta y se guardamos los datos en un dataframe"
   ]
  },
  {
   "cell_type": "code",
   "execution_count": 9,
   "metadata": {},
   "outputs": [],
   "source": [
    "if response.status_code == 200:\n",
    "    data = response.json()\n",
    "    df = pd.DataFrame(data)\n",
    "else:\n",
    "    print(\"Error al obtener los datos: \", response.status_code)"
   ]
  },
  {
   "cell_type": "markdown",
   "metadata": {},
   "source": [
    "### La variable objetivo es predecir la columna categoria (Se debe transformar en Entretenimiento, Deportes, Película y Animación, Educación y Otros) utilizando el texto del titulo."
   ]
  },
  {
   "cell_type": "markdown",
   "metadata": {},
   "source": [
    "Se transforman los datos de la descripción "
   ]
  },
  {
   "cell_type": "code",
   "execution_count": 10,
   "metadata": {},
   "outputs": [
    {
     "data": {
      "text/plain": [
       "Entretenimiento         279\n",
       "Deportes                236\n",
       "Película y Animación    217\n",
       "Educación               141\n",
       "Gente y Blogs            67\n",
       "Música                   41\n",
       "Otros                    19\n",
       "Name: descripcion, dtype: int64"
      ]
     },
     "execution_count": 10,
     "metadata": {},
     "output_type": "execute_result"
    }
   ],
   "source": [
    "i_descripcion = set([i for i,v in\n",
    "        zip(df[\"descripcion\"].value_counts().index, df[\"descripcion\"].value_counts().values) if v > 30 ])\n",
    "df[\"descripcion\"].apply(lambda x: x if x in i_descripcion else 'Otros').value_counts()"
   ]
  },
  {
   "cell_type": "markdown",
   "metadata": {},
   "source": [
    "renombramos las variables descripción"
   ]
  },
  {
   "cell_type": "code",
   "execution_count": 11,
   "metadata": {},
   "outputs": [],
   "source": [
    "df = df.rename(columns={'descripcion': 'categoria'})"
   ]
  },
  {
   "cell_type": "markdown",
   "metadata": {},
   "source": [
    "### i. Utilizar todos los datos, y explorar el numero total de palabras únicas en todos los títulos de train y el numero total de repeticiones (Crear un diccionario para saber si la palabra ya fue observada antes e intentar remover tildes y poner el texto en minúsculas)"
   ]
  },
  {
   "cell_type": "markdown",
   "metadata": {},
   "source": [
    "Creamos un diccionario para almacenar la frecuencia de palabras"
   ]
  },
  {
   "cell_type": "code",
   "execution_count": 12,
   "metadata": {},
   "outputs": [],
   "source": [
    "palabrasFrecuentes = {}\n",
    "palabras = {}\n",
    "palabrasUnicas = {}"
   ]
  },
  {
   "cell_type": "markdown",
   "metadata": {},
   "source": [
    "Creamos una función para elimines algunas caracteres espacial como tildes, numeros entre otros."
   ]
  },
  {
   "cell_type": "code",
   "execution_count": 13,
   "metadata": {},
   "outputs": [],
   "source": [
    "def cambioLetras(letra):\n",
    "    letra = re.sub('[áäâà]', 'a', letra.lower())\n",
    "    letra = re.sub('[éëêè]', 'e', letra)\n",
    "    letra = re.sub('[íïîì]', 'i', letra)\n",
    "    letra = re.sub('[óöôò]', 'o', letra)\n",
    "    letra = re.sub('[úüûù]', 'u', letra)\n",
    "    letra = re.sub('[^a-z]', ' ', letra)  \n",
    "    letra = re.sub('\\s+', ' ', letra) \n",
    "    return letra.strip()"
   ]
  },
  {
   "cell_type": "markdown",
   "metadata": {},
   "source": [
    "iteramos sobre cada título"
   ]
  },
  {
   "cell_type": "code",
   "execution_count": 14,
   "metadata": {},
   "outputs": [],
   "source": [
    "for titulo in df['titulo']:\n",
    "    # Se limpia el texto\n",
    "    cambiotitulo = cambioLetras(titulo)\n",
    "    # Se divide el título en palabras individuales\n",
    "    palabras = cambiotitulo.split()\n",
    "    # Se crea un conjunto (set) de palabras únicas\n",
    "    palabrasUnicas = set(palabras)\n",
    "\n",
    "    # Se convierte el conjunto nuevamente a una lista\n",
    "    palabrasUnicas = list(palabrasUnicas)\n",
    "\n",
    "    # Se cuenta la frecuencia de cada palabra\n",
    "    for palabra in palabras:\n",
    "        if palabra in palabrasFrecuentes:\n",
    "            palabrasFrecuentes[palabra] += 1\n",
    "        else:\n",
    "            palabrasFrecuentes[palabra] = 1"
   ]
  },
  {
   "cell_type": "code",
   "execution_count": 15,
   "metadata": {},
   "outputs": [],
   "source": [
    "numeroDePalabrasUnicas = len(palabrasFrecuentes)\n",
    "numeroRepeteciones = sum(palabrasFrecuentes.values())"
   ]
  },
  {
   "cell_type": "markdown",
   "metadata": {},
   "source": [
    "Resultados"
   ]
  },
  {
   "cell_type": "code",
   "execution_count": 16,
   "metadata": {},
   "outputs": [
    {
     "name": "stdout",
     "output_type": "stream",
     "text": [
      "Número total de palabras únicas: 1874\n",
      "Número total de repeticiones: 7154\n"
     ]
    }
   ],
   "source": [
    "print(\"Número total de palabras únicas:\", numeroDePalabrasUnicas)\n",
    "print(\"Número total de repeticiones:\", numeroRepeteciones)"
   ]
  },
  {
   "cell_type": "markdown",
   "metadata": {},
   "source": [
    "###  ¿Cuántas palabras hay en el data set?"
   ]
  },
  {
   "cell_type": "code",
   "execution_count": 17,
   "metadata": {},
   "outputs": [
    {
     "name": "stdout",
     "output_type": "stream",
     "text": [
      "Número total de palabras en el dataset: 7154\n"
     ]
    }
   ],
   "source": [
    "print(\"Número total de palabras en el dataset:\", numeroRepeteciones)"
   ]
  },
  {
   "cell_type": "markdown",
   "metadata": {},
   "source": [
    "### Generar la Matriz"
   ]
  },
  {
   "cell_type": "markdown",
   "metadata": {},
   "source": [
    "Creamos un dataframe vacío con las palabras únicas como columnas"
   ]
  },
  {
   "cell_type": "code",
   "execution_count": 24,
   "metadata": {},
   "outputs": [],
   "source": [
    "matriz = pd.DataFrame(columns=palabrasUnicas)"
   ]
  },
  {
   "cell_type": "markdown",
   "metadata": {},
   "source": [
    "Se itera sobre cada título en el dataframe"
   ]
  },
  {
   "cell_type": "code",
   "execution_count": 26,
   "metadata": {},
   "outputs": [],
   "source": [
    "for index, titulo in enumerate(df['titulo']):\n",
    "    # Se limpia el texto\n",
    "    cambiotitulo = cambioLetras(titulo)\n",
    "    # Se divide el título en palabras individuales\n",
    "    palabras = cambiotitulo.split()\n",
    "    # Se cuenta la frecuencia de cada palabra en el título\n",
    "    contarPalabras = {palabra: palabras.count(palabra) for palabra in palabrasUnicas}\n",
    "    # Se convierten los resultados en un dataframe temporal\n",
    "    tempDf = pd.DataFrame(contarPalabras, index=[index])\n",
    "    # Se concatena el dataframe temporal con la matriz\n",
    "    matriz = pd.concat([matriz, tempDf])"
   ]
  },
  {
   "cell_type": "markdown",
   "metadata": {},
   "source": [
    "Asignamos los títulos"
   ]
  },
  {
   "cell_type": "code",
   "execution_count": 27,
   "metadata": {},
   "outputs": [],
   "source": [
    "matriz.index = df['titulo']"
   ]
  },
  {
   "cell_type": "markdown",
   "metadata": {},
   "source": [
    "Se muestra la matriz"
   ]
  },
  {
   "cell_type": "code",
   "execution_count": 28,
   "metadata": {},
   "outputs": [
    {
     "name": "stdout",
     "output_type": "stream",
     "text": [
      "                                                   poderosas en ultra con  \\\n",
      "titulo                                                                      \n",
      "Urbílogo - Bogotá dominguera                               0  0     0   0   \n",
      "Historias en bici - Sibaté pedalea su pasado               0  1     0   0   \n",
      "Today in replay 18 de febrero                              0  0     0   0   \n",
      "Documentales: 'Camilo, el cura guerrillero' - H...         0  0     0   0   \n",
      "En cine nos vemos - Cuchillo de palo - Renate C...         0  1     0   0   \n",
      "...                                                      ... ..   ...  ..   \n",
      "Para ver TV - Deporte                                      0  0     0   0   \n",
      "Franja Retro - NN                                          0  0     0   0   \n",
      "Todo lo que vemos - 118 - Televidentes - Frank ...         0  0     0   0   \n",
      "sillón justicia música e identidad                         0  0     0   0   \n",
      "Cocina en familia con Josefina: Lentejas Ultra ...         1  1     1   1   \n",
      "\n",
      "                                                   familia cocina josefina  \\\n",
      "titulo                                                                       \n",
      "Urbílogo - Bogotá dominguera                             0      0        0   \n",
      "Historias en bici - Sibaté pedalea su pasado             0      0        0   \n",
      "Today in replay 18 de febrero                            0      0        0   \n",
      "Documentales: 'Camilo, el cura guerrillero' - H...       0      0        0   \n",
      "En cine nos vemos - Cuchillo de palo - Renate C...       0      0        0   \n",
      "...                                                    ...    ...      ...   \n",
      "Para ver TV - Deporte                                    0      0        0   \n",
      "Franja Retro - NN                                        0      0        0   \n",
      "Todo lo que vemos - 118 - Televidentes - Frank ...       0      0        0   \n",
      "sillón justicia música e identidad                       0      0        0   \n",
      "Cocina en familia con Josefina: Lentejas Ultra ...       1      1        1   \n",
      "\n",
      "                                                   lentejas  \n",
      "titulo                                                       \n",
      "Urbílogo - Bogotá dominguera                              0  \n",
      "Historias en bici - Sibaté pedalea su pasado              0  \n",
      "Today in replay 18 de febrero                             0  \n",
      "Documentales: 'Camilo, el cura guerrillero' - H...        0  \n",
      "En cine nos vemos - Cuchillo de palo - Renate C...        0  \n",
      "...                                                     ...  \n",
      "Para ver TV - Deporte                                     0  \n",
      "Franja Retro - NN                                         0  \n",
      "Todo lo que vemos - 118 - Televidentes - Frank ...        0  \n",
      "sillón justicia música e identidad                        0  \n",
      "Cocina en familia con Josefina: Lentejas Ultra ...        1  \n",
      "\n",
      "[1000 rows x 8 columns]\n"
     ]
    }
   ],
   "source": [
    "print(matriz)"
   ]
  },
  {
   "cell_type": "markdown",
   "metadata": {},
   "source": [
    "### ii. Crear un gráfico de barras con las 10 palabras más comunes."
   ]
  },
  {
   "cell_type": "markdown",
   "metadata": {},
   "source": [
    "Obtenemos las 10 palabras más comunes y sus frecuencias"
   ]
  },
  {
   "cell_type": "code",
   "execution_count": 29,
   "metadata": {},
   "outputs": [],
   "source": [
    "palabrasComunes = sorted(palabrasFrecuentes.items(), key=lambda x: x[1], reverse=True)[:10]\n",
    "principalesPalabras = [palabra[0] for palabra in palabrasComunes]\n",
    "numeroPalbras = [palabra[1] for palabra in palabrasComunes]"
   ]
  },
  {
   "cell_type": "markdown",
   "metadata": {},
   "source": [
    "Se crea el grafico de barras"
   ]
  },
  {
   "cell_type": "code",
   "execution_count": 30,
   "metadata": {},
   "outputs": [
    {
     "data": {
      "image/png": "[encoded data removed]",
      "text/plain": [
       "<Figure size 1000x600 with 1 Axes>"
      ]
     },
     "metadata": {},
     "output_type": "display_data"
    }
   ],
   "source": [
    "plt.figure(figsize=(10, 6))\n",
    "plt.bar(principalesPalabras, numeroPalbras)\n",
    "plt.xlabel('Palabras')\n",
    "plt.ylabel('Frecuencia de la palabra')\n",
    "plt.title('Las 10 palabras más comunes')\n",
    "plt.xticks(rotation=45) \n",
    "plt.show()"
   ]
  },
  {
   "cell_type": "markdown",
   "metadata": {},
   "source": [
    "### ¿Son utiles?"
   ]
  },
  {
   "cell_type": "markdown",
   "metadata": {},
   "source": [
    "Cuando se analizan las palabras más comunes en los títulos, a menudo se utilizan gráficos de barras para mostrar las frecuencias de las palabras de manera visual y rápida. Sin embargo, hay situaciones en las que un gráfico de barras puede no ser la opción más adecuada, especialmente cuando hay muchas palabras únicas y las frecuencias varían considerablemente."
   ]
  },
  {
   "cell_type": "markdown",
   "metadata": {},
   "source": [
    "### Normalmente las palabras más comunes son llamadas stop words. Y corresponden a los artículos o preposiciones. Generar nuevamente los gráficos. Y una matriz de correlación utilizando dummy variables para las variables objetivo “categoria”."
   ]
  },
  {
   "cell_type": "markdown",
   "metadata": {},
   "source": [
    "Creamos los dummy para la variable objetivo \"Categoria\""
   ]
  },
  {
   "cell_type": "code",
   "execution_count": 31,
   "metadata": {},
   "outputs": [],
   "source": [
    "dummy_categoria = pd.get_dummies(df['categoria'])"
   ]
  },
  {
   "cell_type": "markdown",
   "metadata": {},
   "source": [
    "Se botienen las 10 palabras más comunes y sus frecuencias"
   ]
  },
  {
   "cell_type": "code",
   "execution_count": 32,
   "metadata": {},
   "outputs": [],
   "source": [
    "palabrasComunes = sorted(palabrasFrecuentes.items(), key=lambda x: x[1], reverse=True)[:10]\n",
    "principalesPalabras = [palabra[0] for palabra in palabrasComunes]\n",
    "numeroPalbras = [palabra[1] for palabra in palabrasComunes]"
   ]
  },
  {
   "cell_type": "markdown",
   "metadata": {},
   "source": [
    "Se crea el grafico de barras"
   ]
  },
  {
   "cell_type": "code",
   "execution_count": 33,
   "metadata": {},
   "outputs": [
    {
     "data": {
      "image/png": "[encoded data removed]",
      "text/plain": [
       "<Figure size 1000x600 with 1 Axes>"
      ]
     },
     "metadata": {},
     "output_type": "display_data"
    }
   ],
   "source": [
    "plt.figure(figsize=(10, 6))\n",
    "plt.bar(principalesPalabras, numeroPalbras)\n",
    "plt.xlabel('Palabras')\n",
    "plt.ylabel('Frecuencia de la palabra')\n",
    "plt.title('Las 10 palabras más comunes')\n",
    "plt.xticks(rotation=45) \n",
    "plt.show()"
   ]
  },
  {
   "cell_type": "code",
   "execution_count": 34,
   "metadata": {},
   "outputs": [
    {
     "ename": "SyntaxError",
     "evalue": "invalid syntax (1501956055.py, line 1)",
     "output_type": "error",
     "traceback": [
      "\u001b[1;36m  Cell \u001b[1;32mIn[34], line 1\u001b[1;36m\u001b[0m\n\u001b[1;33m    Creamos la matriz de correlación con los dummy variables\u001b[0m\n\u001b[1;37m            ^\u001b[0m\n\u001b[1;31mSyntaxError\u001b[0m\u001b[1;31m:\u001b[0m invalid syntax\n"
     ]
    }
   ],
   "source": [
    "Creamos la matriz de correlación con los dummy variables"
   ]
  },
  {
   "cell_type": "code",
   "execution_count": 35,
   "metadata": {},
   "outputs": [
    {
     "data": {
      "image/png": "[encoded data removed]",
      "text/plain": [
       "<Figure size 1000x800 with 2 Axes>"
      ]
     },
     "metadata": {},
     "output_type": "display_data"
    }
   ],
   "source": [
    "correlacion_matriz = dummy_categoria.corr()\n",
    "\n",
    "plt.figure(figsize=(10, 8))\n",
    "sns.heatmap(correlacion_matriz, annot=True, cmap='coolwarm')\n",
    "plt.title('Matriz de correlación')\n",
    "plt.show()"
   ]
  },
  {
   "cell_type": "markdown",
   "metadata": {},
   "source": [
    "### También generar la matriz nueva eliminando los stopwords y dividimos por el numero total de palabras en cada título. Esta matriz se llama TF (Term Frequency)."
   ]
  },
  {
   "cell_type": "markdown",
   "metadata": {},
   "source": [
    "Descargamos los datos de las stopwords"
   ]
  },
  {
   "cell_type": "code",
   "execution_count": 36,
   "metadata": {},
   "outputs": [
    {
     "name": "stderr",
     "output_type": "stream",
     "text": [
      "[nltk_data] Downloading package stopwords to\n",
      "[nltk_data]     C:\\Users\\J.Diego\\AppData\\Roaming\\nltk_data...\n",
      "[nltk_data]   Package stopwords is already up-to-date!\n"
     ]
    },
    {
     "data": {
      "text/plain": [
       "True"
      ]
     },
     "execution_count": 36,
     "metadata": {},
     "output_type": "execute_result"
    }
   ],
   "source": [
    "nltk.download('stopwords')"
   ]
  },
  {
   "cell_type": "markdown",
   "metadata": {},
   "source": [
    "Obtenemos los stopwords en español"
   ]
  },
  {
   "cell_type": "code",
   "execution_count": 37,
   "metadata": {},
   "outputs": [],
   "source": [
    "stopwords = stopwords.words('spanish')"
   ]
  },
  {
   "cell_type": "markdown",
   "metadata": {},
   "source": [
    "Eliminamos los stopwords de las palabras únicas"
   ]
  },
  {
   "cell_type": "code",
   "execution_count": 40,
   "metadata": {},
   "outputs": [],
   "source": [
    "palabrasUnicas = [palabra for palabra in palabrasUnicas if palabra not in stopwords]"
   ]
  },
  {
   "cell_type": "markdown",
   "metadata": {},
   "source": [
    "Creamos un dataframe vacío con las palabras únicas en columnas"
   ]
  },
  {
   "cell_type": "code",
   "execution_count": 41,
   "metadata": {},
   "outputs": [],
   "source": [
    "matriz = pd.DataFrame(columns=palabrasUnicas)"
   ]
  },
  {
   "cell_type": "markdown",
   "metadata": {},
   "source": [
    "Iteramos en cada título"
   ]
  },
  {
   "cell_type": "code",
   "execution_count": 52,
   "metadata": {},
   "outputs": [],
   "source": [
    "for index, titulo in enumerate(df['titulo']):\n",
    "    # Se limpia el texto\n",
    "    cambiotitulo = cambioLetras(titulo)\n",
    "    # Se divide el título en palabras individuales\n",
    "    palabras = cambiotitulo.split()\n",
    "    # Se eliminan los stopwords de las palabras\n",
    "    palabras = [palabra for palabra in palabras if palabra not in stopwords]\n",
    "    # Se calcula el número total de palabras en el título\n",
    "    totalPalabras = len(palabras)\n",
    "    # Se calcula la frecuencia de cada palabra en el título y dividir por el número total de palabras\n",
    "    contarPalabras = {palabra: palabras.count(palabra) / totalPalabras for palabra in palabrasUnicas}\n",
    "    # Se convierten los resultados en un dataframe temporal\n",
    "    tempDf = pd.DataFrame(contarPalabras, index=[index])\n",
    "    # Se concatena el dataframe temporal con la matriz\n",
    "    matriz = pd.concat([matriz, tempDf])"
   ]
  },
  {
   "cell_type": "code",
   "execution_count": 45,
   "metadata": {},
   "outputs": [],
   "source": [
    "matriz.index = df['titulo']"
   ]
  },
  {
   "cell_type": "code",
   "execution_count": 47,
   "metadata": {},
   "outputs": [
    {
     "name": "stdout",
     "output_type": "stream",
     "text": [
      "                                                    poderosas     ultra  \\\n",
      "titulo                                                                    \n",
      "Urbílogo - Bogotá dominguera                         0.000000  0.000000   \n",
      "Historias en bici - Sibaté pedalea su pasado         0.000000  0.000000   \n",
      "Today in replay 18 de febrero                        0.000000  0.000000   \n",
      "Documentales: 'Camilo, el cura guerrillero' - H...   0.000000  0.000000   \n",
      "En cine nos vemos - Cuchillo de palo - Renate C...   0.000000  0.000000   \n",
      "...                                                       ...       ...   \n",
      "Para ver TV - Deporte                                0.000000  0.000000   \n",
      "Franja Retro - NN                                    0.000000  0.000000   \n",
      "Todo lo que vemos - 118 - Televidentes - Frank ...   0.000000  0.000000   \n",
      "sillón justicia música e identidad                   0.000000  0.000000   \n",
      "Cocina en familia con Josefina: Lentejas Ultra ...   0.166667  0.166667   \n",
      "\n",
      "                                                     familia    cocina  \\\n",
      "titulo                                                                   \n",
      "Urbílogo - Bogotá dominguera                        0.000000  0.000000   \n",
      "Historias en bici - Sibaté pedalea su pasado        0.000000  0.000000   \n",
      "Today in replay 18 de febrero                       0.000000  0.000000   \n",
      "Documentales: 'Camilo, el cura guerrillero' - H...  0.000000  0.000000   \n",
      "En cine nos vemos - Cuchillo de palo - Renate C...  0.000000  0.000000   \n",
      "...                                                      ...       ...   \n",
      "Para ver TV - Deporte                               0.000000  0.000000   \n",
      "Franja Retro - NN                                   0.000000  0.000000   \n",
      "Todo lo que vemos - 118 - Televidentes - Frank ...  0.000000  0.000000   \n",
      "sillón justicia música e identidad                  0.000000  0.000000   \n",
      "Cocina en familia con Josefina: Lentejas Ultra ...  0.166667  0.166667   \n",
      "\n",
      "                                                    josefina  lentejas  \n",
      "titulo                                                                  \n",
      "Urbílogo - Bogotá dominguera                        0.000000  0.000000  \n",
      "Historias en bici - Sibaté pedalea su pasado        0.000000  0.000000  \n",
      "Today in replay 18 de febrero                       0.000000  0.000000  \n",
      "Documentales: 'Camilo, el cura guerrillero' - H...  0.000000  0.000000  \n",
      "En cine nos vemos - Cuchillo de palo - Renate C...  0.000000  0.000000  \n",
      "...                                                      ...       ...  \n",
      "Para ver TV - Deporte                               0.000000  0.000000  \n",
      "Franja Retro - NN                                   0.000000  0.000000  \n",
      "Todo lo que vemos - 118 - Televidentes - Frank ...  0.000000  0.000000  \n",
      "sillón justicia música e identidad                  0.000000  0.000000  \n",
      "Cocina en familia con Josefina: Lentejas Ultra ...  0.166667  0.166667  \n",
      "\n",
      "[1000 rows x 6 columns]\n"
     ]
    }
   ],
   "source": [
    "print(matriz)"
   ]
  },
  {
   "cell_type": "markdown",
   "metadata": {},
   "source": [
    "### iii. Ahora vamos a crear un vector contando el numero de titulos que tiene cada palabra. Este vector tiene “n” elementos y el valor es el número de títulos que tiene la palabra."
   ]
  },
  {
   "cell_type": "markdown",
   "metadata": {},
   "source": [
    "Creamos un vector para contar el número de títulos que contienen cada palabra"
   ]
  },
  {
   "cell_type": "code",
   "execution_count": 53,
   "metadata": {},
   "outputs": [],
   "source": [
    "numeroTitulos = []"
   ]
  },
  {
   "cell_type": "code",
   "execution_count": 54,
   "metadata": {},
   "outputs": [],
   "source": [
    "for palabra in palabrasUnicas:\n",
    "    # Contar el número de títulos que contienen la palabra\n",
    "    contar = sum(matriz[palabra] > 0)\n",
    "    numeroTitulos.append(contar)"
   ]
  },
  {
   "cell_type": "markdown",
   "metadata": {},
   "source": [
    "Vector del conteo"
   ]
  },
  {
   "cell_type": "code",
   "execution_count": 56,
   "metadata": {},
   "outputs": [
    {
     "name": "stdout",
     "output_type": "stream",
     "text": [
      "[2, 2, 4, 12, 8, 2]\n"
     ]
    }
   ],
   "source": [
    "print(numeroTitulos)"
   ]
  },
  {
   "cell_type": "markdown",
   "metadata": {},
   "source": [
    "### Por último vamos a transformar el numero calculando el log(Total de documentos/ (Numero de documentos con la Palabra i + 1) ). El +1 es para q no quede el numero indeterminado cuando algún valor es “0”, el vector es llamado IDF(Inverse Document Frequency)"
   ]
  },
  {
   "cell_type": "markdown",
   "metadata": {},
   "source": [
    "Creamos una matriz vacía con las palabras únicas como columnas"
   ]
  },
  {
   "cell_type": "code",
   "execution_count": 58,
   "metadata": {},
   "outputs": [],
   "source": [
    "idfMatriz = np.zeros((len(df), len(palabrasUnicas)))"
   ]
  },
  {
   "cell_type": "code",
   "execution_count": 59,
   "metadata": {},
   "outputs": [],
   "source": [
    "for i, palabra in enumerate(palabrasUnicas):\n",
    "    # Calcular el IDF para la palabra\n",
    "    idf = np.log(len(df) / (numeroTitulos[i] + 1))\n",
    "    # Asignar el IDF a la columna correspondiente en la matriz\n",
    "    idfMatriz[:, i] = idf"
   ]
  },
  {
   "cell_type": "markdown",
   "metadata": {},
   "source": [
    "convertimos la matriz en un DataFrame de pandas con los títulos como índices"
   ]
  },
  {
   "cell_type": "code",
   "execution_count": 62,
   "metadata": {},
   "outputs": [],
   "source": [
    "idfDf = pd.DataFrame(idfMatriz, index=df['titulo'], columns=palabrasUnicas)"
   ]
  },
  {
   "cell_type": "code",
   "execution_count": 63,
   "metadata": {},
   "outputs": [
    {
     "name": "stdout",
     "output_type": "stream",
     "text": [
      "                                                    poderosas     ultra  \\\n",
      "titulo                                                                    \n",
      "Urbílogo - Bogotá dominguera                         5.809143  5.809143   \n",
      "Historias en bici - Sibaté pedalea su pasado         5.809143  5.809143   \n",
      "Today in replay 18 de febrero                        5.809143  5.809143   \n",
      "Documentales: 'Camilo, el cura guerrillero' - H...   5.809143  5.809143   \n",
      "En cine nos vemos - Cuchillo de palo - Renate C...   5.809143  5.809143   \n",
      "...                                                       ...       ...   \n",
      "Para ver TV - Deporte                                5.809143  5.809143   \n",
      "Franja Retro - NN                                    5.809143  5.809143   \n",
      "Todo lo que vemos - 118 - Televidentes - Frank ...   5.809143  5.809143   \n",
      "sillón justicia música e identidad                   5.809143  5.809143   \n",
      "Cocina en familia con Josefina: Lentejas Ultra ...   5.809143  5.809143   \n",
      "\n",
      "                                                     familia    cocina  \\\n",
      "titulo                                                                   \n",
      "Urbílogo - Bogotá dominguera                        5.298317  4.342806   \n",
      "Historias en bici - Sibaté pedalea su pasado        5.298317  4.342806   \n",
      "Today in replay 18 de febrero                       5.298317  4.342806   \n",
      "Documentales: 'Camilo, el cura guerrillero' - H...  5.298317  4.342806   \n",
      "En cine nos vemos - Cuchillo de palo - Renate C...  5.298317  4.342806   \n",
      "...                                                      ...       ...   \n",
      "Para ver TV - Deporte                               5.298317  4.342806   \n",
      "Franja Retro - NN                                   5.298317  4.342806   \n",
      "Todo lo que vemos - 118 - Televidentes - Frank ...  5.298317  4.342806   \n",
      "sillón justicia música e identidad                  5.298317  4.342806   \n",
      "Cocina en familia con Josefina: Lentejas Ultra ...  5.298317  4.342806   \n",
      "\n",
      "                                                    josefina  lentejas  \n",
      "titulo                                                                  \n",
      "Urbílogo - Bogotá dominguera                        4.710531  5.809143  \n",
      "Historias en bici - Sibaté pedalea su pasado        4.710531  5.809143  \n",
      "Today in replay 18 de febrero                       4.710531  5.809143  \n",
      "Documentales: 'Camilo, el cura guerrillero' - H...  4.710531  5.809143  \n",
      "En cine nos vemos - Cuchillo de palo - Renate C...  4.710531  5.809143  \n",
      "...                                                      ...       ...  \n",
      "Para ver TV - Deporte                               4.710531  5.809143  \n",
      "Franja Retro - NN                                   4.710531  5.809143  \n",
      "Todo lo que vemos - 118 - Televidentes - Frank ...  4.710531  5.809143  \n",
      "sillón justicia música e identidad                  4.710531  5.809143  \n",
      "Cocina en familia con Josefina: Lentejas Ultra ...  4.710531  5.809143  \n",
      "\n",
      "[1000 rows x 6 columns]\n"
     ]
    }
   ],
   "source": [
    "print(idfDf)"
   ]
  },
  {
   "cell_type": "markdown",
   "metadata": {},
   "source": [
    "### iv. Ahora vamos a multiplicar el vector TF (La matriz) * IDF (Vector transpuesto), El resultado es una matriz de m títulos por n palabras. Y dividir el dataset en test y train. En producción se debería dividir los datos antes de calcular el TF-IDF , y para calcular la matriz TFIDF en testing es necesario calcular la frecuencia de las palabras en testing utilizando el orden y las palabras en training y utilizar el IDF de training, pero no es necesario para esta tarea."
   ]
  },
  {
   "cell_type": "markdown",
   "metadata": {},
   "source": [
    "Eliminanos los valores que estan nulos "
   ]
  },
  {
   "cell_type": "code",
   "execution_count": 64,
   "metadata": {},
   "outputs": [],
   "source": [
    "df = df.dropna(subset=['titulo'])"
   ]
  },
  {
   "cell_type": "markdown",
   "metadata": {},
   "source": [
    "Reindexar el dataframe después de eliminar los valores nulos"
   ]
  },
  {
   "cell_type": "code",
   "execution_count": 65,
   "metadata": {},
   "outputs": [],
   "source": [
    "df = df.reset_index(drop=True)"
   ]
  },
  {
   "cell_type": "markdown",
   "metadata": {},
   "source": [
    "dividemos los datos en entrenamiento y prueba"
   ]
  },
  {
   "cell_type": "code",
   "execution_count": 66,
   "metadata": {},
   "outputs": [],
   "source": [
    "X_train, X_test, y_train, y_test = train_test_split(df['titulo'], df['categoria'], test_size=0.2, random_state=42)"
   ]
  },
  {
   "cell_type": "markdown",
   "metadata": {},
   "source": [
    "creamos el vectorizador TF-IDF"
   ]
  },
  {
   "cell_type": "code",
   "execution_count": 69,
   "metadata": {},
   "outputs": [],
   "source": [
    "tfidfVectorizer = TfidfVectorizer(stop_words=None)"
   ]
  },
  {
   "cell_type": "markdown",
   "metadata": {},
   "source": [
    "Transformamos los datos de entrenamiento"
   ]
  },
  {
   "cell_type": "code",
   "execution_count": 71,
   "metadata": {},
   "outputs": [],
   "source": [
    "tfidfTrain = tfidfVectorizer.fit_transform(X_train)"
   ]
  },
  {
   "cell_type": "markdown",
   "metadata": {},
   "source": [
    "Transformamos los datos de prueba"
   ]
  },
  {
   "cell_type": "code",
   "execution_count": 73,
   "metadata": {},
   "outputs": [],
   "source": [
    "tfidfTest = tfidfVectorizer.transform(X_test)"
   ]
  },
  {
   "cell_type": "code",
   "execution_count": 75,
   "metadata": {},
   "outputs": [
    {
     "name": "stdout",
     "output_type": "stream",
     "text": [
      "Dimensiones de la matriz TF-IDF de entrenamiento: (800, 1853)\n",
      "Dimensiones de la matriz TF-IDF de prueba: (200, 1853)\n"
     ]
    }
   ],
   "source": [
    "print(\"Dimensiones de la matriz TF-IDF de entrenamiento:\", tfidfTrain.shape)\n",
    "print(\"Dimensiones de la matriz TF-IDF de prueba:\", tfidfTest.shape)"
   ]
  },
  {
   "cell_type": "markdown",
   "metadata": {},
   "source": [
    "### v. Utilizando la matriz vamos a entrenar 3 modelos, una regresión logística, un random forest y un GBM. Vamos a crear una matriz de confusión y vamos a comparar los 3 modelos. ¿Cuál es el mejor modelo?, incluir métricas como accuracy, precision y recall para cada modelo"
   ]
  },
  {
   "cell_type": "markdown",
   "metadata": {},
   "source": [
    "Modelo de regrecion logistica"
   ]
  },
  {
   "cell_type": "code",
   "execution_count": 76,
   "metadata": {},
   "outputs": [],
   "source": [
    "regrecionLogistica = LogisticRegression()\n",
    "regrecionLogistica.fit(tfidfTrain, y_train)\n",
    "prediccionRegrecion = regrecionLogistica.predict(tfidfTest)"
   ]
  },
  {
   "cell_type": "markdown",
   "metadata": {},
   "source": [
    "Generamos el accuracy el precision y el recall"
   ]
  },
  {
   "cell_type": "code",
   "execution_count": 78,
   "metadata": {},
   "outputs": [
    {
     "name": "stderr",
     "output_type": "stream",
     "text": [
      "C:\\Users\\J.Diego\\AppData\\Local\\Programs\\Python\\Python311\\Lib\\site-packages\\sklearn\\metrics\\_classification.py:1344: UndefinedMetricWarning: Precision is ill-defined and being set to 0.0 in labels with no predicted samples. Use `zero_division` parameter to control this behavior.\n",
      "  _warn_prf(average, modifier, msg_start, len(result))\n"
     ]
    }
   ],
   "source": [
    "regrecionLogisticaAccuracy = accuracy_score(y_test, prediccionRegrecion)\n",
    "regrecionLogisticaprecision = precision_score(y_test, prediccionRegrecion, average='weighted')\n",
    "regrecionLogisticaRecall = recall_score(y_test, prediccionRegrecion, average='weighted')"
   ]
  },
  {
   "cell_type": "markdown",
   "metadata": {},
   "source": [
    "Creamos la matriz de confusion pa el modelo de regresion "
   ]
  },
  {
   "cell_type": "code",
   "execution_count": 83,
   "metadata": {},
   "outputs": [],
   "source": [
    "regrecionLogisticaMatriz = confusion_matrix(y_test, prediccionRegrecion)"
   ]
  },
  {
   "cell_type": "code",
   "execution_count": 84,
   "metadata": {},
   "outputs": [
    {
     "name": "stdout",
     "output_type": "stream",
     "text": [
      "Regresión Logística\n",
      "Accuracy: 0.645\n",
      "Precision: 0.6228219587430114\n",
      "Recall:  0.645\n",
      "Matriz de Confusión\n",
      "[[ 0  0  1  0  0  0  0  0]\n",
      " [ 0 41  0  0  1  0  3  0]\n",
      " [ 0  1 10  9  0  0  4  0]\n",
      " [ 0  4  0 47  0  1  8  0]\n",
      " [ 0  3  2  6  1  0  7  0]\n",
      " [ 0  3  0  2  0  2  1  0]\n",
      " [ 0  4  3  6  0  0 28  0]\n",
      " [ 0  1  0  0  0  0  1  0]]\n"
     ]
    }
   ],
   "source": [
    "print(\"Regresión Logística\")\n",
    "print(\"Accuracy:\", regrecionLogisticaAccuracy)\n",
    "print(\"Precision:\", regrecionLogisticaprecision)\n",
    "print(\"Recall: \", regrecionLogisticaRecall)\n",
    "print(\"Matriz de Confusión\")\n",
    "print(regrecionLogisticaMatriz)"
   ]
  },
  {
   "cell_type": "markdown",
   "metadata": {},
   "source": [
    "Modelo random forest"
   ]
  },
  {
   "cell_type": "code",
   "execution_count": 88,
   "metadata": {},
   "outputs": [],
   "source": [
    "randomForest = RandomForestClassifier()\n",
    "randomForest.fit(tfidfTrain, y_train)\n",
    "randomForestPredcion = randomForest.predict(tfidfTest)"
   ]
  },
  {
   "cell_type": "code",
   "execution_count": 90,
   "metadata": {},
   "outputs": [],
   "source": [
    "randomForestAccuracy = accuracy_score(y_test, randomForestPredcion)\n",
    "randomForestPrecision = precision_score(y_test, randomForestPredcion, average='weighted')\n",
    "randomForestRecall = recall_score(y_test, randomForestPredcion, average='weighted')"
   ]
  },
  {
   "cell_type": "markdown",
   "metadata": {},
   "source": [
    "Creamos la matriz de confusion pa el modelo de random forest "
   ]
  },
  {
   "cell_type": "code",
   "execution_count": 91,
   "metadata": {},
   "outputs": [],
   "source": [
    "randomForestMatriz = confusion_matrix(y_test, randomForestPredcion)"
   ]
  },
  {
   "cell_type": "code",
   "execution_count": 92,
   "metadata": {},
   "outputs": [
    {
     "name": "stdout",
     "output_type": "stream",
     "text": [
      "Random Forest\n",
      "Accuracy: 0.695\n",
      "Precision: 0.7099137145748987\n",
      "Recall: 0.695\n",
      "Matriz de Confusión\n",
      "[[ 0  0  1  0  0  0  0  0]\n",
      " [ 0 41  3  0  1  0  0  0]\n",
      " [ 1  1 13  8  0  0  1  0]\n",
      " [ 0  3  4 45  0  2  6  0]\n",
      " [ 0  1  3  5  7  1  2  0]\n",
      " [ 0  2  1  2  0  3  0  0]\n",
      " [ 0  4  4  4  0  0 29  0]\n",
      " [ 0  0  1  0  0  0  0  1]]\n"
     ]
    }
   ],
   "source": [
    "print(\"Random Forest\")\n",
    "print(\"Accuracy:\", randomForestAccuracy)\n",
    "print(\"Precision:\", randomForestPrecision)\n",
    "print(\"Recall:\", randomForestRecall)\n",
    "print(\"Matriz de Confusión\")\n",
    "print(randomForestMatriz)"
   ]
  },
  {
   "cell_type": "markdown",
   "metadata": {},
   "source": [
    "Modelo de GBM"
   ]
  },
  {
   "cell_type": "code",
   "execution_count": 95,
   "metadata": {},
   "outputs": [],
   "source": [
    "gbm = GradientBoostingClassifier()\n",
    "gbm.fit(tfidfTrain, y_train)\n",
    "gbmPredicion = gbm.predict(tfidfTest)"
   ]
  },
  {
   "cell_type": "code",
   "execution_count": 96,
   "metadata": {},
   "outputs": [],
   "source": [
    "gbmAccuracy = accuracy_score(y_test, gbmPredicion)\n",
    "gbmPrecision = precision_score(y_test, gbmPredicion, average='weighted')\n",
    "gbmRecall = recall_score(y_test, gbmPredicion, average='weighted')"
   ]
  },
  {
   "cell_type": "markdown",
   "metadata": {},
   "source": [
    "Creamos la matriz de confusion pa el modelo de GBM"
   ]
  },
  {
   "cell_type": "code",
   "execution_count": 97,
   "metadata": {},
   "outputs": [],
   "source": [
    "gbmMatriz = confusion_matrix(y_test, gbmPredicion)"
   ]
  },
  {
   "cell_type": "code",
   "execution_count": 99,
   "metadata": {},
   "outputs": [
    {
     "name": "stdout",
     "output_type": "stream",
     "text": [
      "GBM\n",
      "Accuracy: 0.64\n",
      "Precision: 0.6526778656126483\n",
      "Recall: 0.64\n",
      "Matriz de Confusión\n",
      "[[ 1  0  0  0  0  0  0  0]\n",
      " [ 0 38  0  0  0  1  6  0]\n",
      " [ 2  0 10  8  0  0  3  1]\n",
      " [ 0  1  1 46  1  1  9  1]\n",
      " [ 0  0  1  5  8  0  5  0]\n",
      " [ 0  2  0  2  0  2  2  0]\n",
      " [ 0  4  4  8  2  0 21  2]\n",
      " [ 0  0  0  0  0  0  0  2]]\n"
     ]
    }
   ],
   "source": [
    "print(\"GBM\")\n",
    "print(\"Accuracy:\", gbmAccuracy)\n",
    "print(\"Precision:\", gbmPrecision)\n",
    "print(\"Recall:\", gbmRecall)\n",
    "print(\"Matriz de Confusión\")\n",
    "print(gbmMatriz)"
   ]
  },
  {
   "cell_type": "markdown",
   "metadata": {},
   "source": [
    "### ¿Cuál es el mejor modelo?"
   ]
  },
  {
   "cell_type": "markdown",
   "metadata": {},
   "source": [
    "Al comparar resultados de los diferentes modelos Random Forest GBM y regrecion logistica podemos ver que:\n",
    "El \"Accuracy\" nos indica qué tan precisas son las predicciones del modelo. En el caso de Random Forest, su exactitud es del 69.5%, lo que significa que el 69.5%% de las predicciones del modelo son correctas. \n",
    "\n",
    "La \"Precision\" es una medida que nos dice cuántas de las muestras clasificadas como positivas son realmente positivas. Para Random Forest, la precisión es del 70.9%, lo que indica que hay menos falsos positivos en comparación con los otros modelos.\n",
    "\n",
    "El \"recall\" nos indica la capacidad del modelo para identificar correctamente las muestras positivas. En este caso, el recall nos da un valor de 69.5. lo que significa que tienen una capacidad similar para evitar falsos negativos.\n",
    "\n",
    "En conclucion los tres modelos rojan valores entre el 60% - el 70% sin embargo el randon forest ojala los valores mas altos siendo el  mejor modelo en este caso Tiene la mayor exactitud y precisión, lo que sugiere que sus predicciones son más confiables y hay menos falsos positivos. "
   ]
  }
 ],
 "metadata": {
  "kernelspec": {
   "display_name": "Python 3 (ipykernel)",
   "language": "python",
   "name": "python3"
  },
  "language_info": {
   "codemirror_mode": {
    "name": "ipython",
    "version": 3
   },
   "file_extension": ".py",
   "mimetype": "text/x-python",
   "name": "python",
   "nbconvert_exporter": "python",
   "pygments_lexer": "ipython3",
   "version": "3.11.2"
  }
 },
 "nbformat": 4,
 "nbformat_minor": 2
}
