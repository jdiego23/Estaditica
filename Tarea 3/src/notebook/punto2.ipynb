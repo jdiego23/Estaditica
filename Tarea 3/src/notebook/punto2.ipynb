{
 "cells": [
  {
   "cell_type": "code",
   "execution_count": 1,
   "metadata": {},
   "outputs": [
    {
     "name": "stdout",
     "output_type": "stream",
     "text": [
      "Collecting sounddevice\n",
      "  Downloading sounddevice-0.4.6-py3-none-win_amd64.whl (199 kB)\n",
      "                                              0.0/199.7 kB ? eta -:--:--\n",
      "     -------------------------------------- 199.7/199.7 kB 6.1 MB/s eta 0:00:00\n",
      "Requirement already satisfied: CFFI>=1.0 in c:\\users\\j.diego\\appdata\\local\\programs\\python\\python311\\lib\\site-packages (from sounddevice) (1.15.1)\n",
      "Requirement already satisfied: pycparser in c:\\users\\j.diego\\appdata\\local\\programs\\python\\python311\\lib\\site-packages (from CFFI>=1.0->sounddevice) (2.21)\n",
      "Installing collected packages: sounddevice\n",
      "Successfully installed sounddevice-0.4.6\n"
     ]
    },
    {
     "name": "stderr",
     "output_type": "stream",
     "text": [
      "\n",
      "[notice] A new release of pip is available: 23.1.1 -> 23.1.2\n",
      "[notice] To update, run: python.exe -m pip install --upgrade pip\n"
     ]
    }
   ],
   "source": [
    "!pip install sounddevice"
   ]
  },
  {
   "cell_type": "code",
   "execution_count": 3,
   "metadata": {},
   "outputs": [
    {
     "name": "stdout",
     "output_type": "stream",
     "text": [
      "Requirement already satisfied: pip in c:\\users\\j.diego\\appdata\\local\\programs\\python\\python311\\lib\\site-packages (23.1.1)Note: you may need to restart the kernel to use updated packages.\n",
      "\n",
      "Collecting pip\n",
      "  Downloading pip-23.1.2-py3-none-any.whl (2.1 MB)\n",
      "                                              0.0/2.1 MB ? eta -:--:--\n",
      "     -------                                  0.4/2.1 MB 11.6 MB/s eta 0:00:01\n",
      "     ------------------                       0.9/2.1 MB 11.8 MB/s eta 0:00:01\n",
      "     --------------------------------         1.7/2.1 MB 11.8 MB/s eta 0:00:01\n",
      "     ---------------------------------------- 2.1/2.1 MB 11.9 MB/s eta 0:00:00\n",
      "Installing collected packages: pip\n",
      "  Attempting uninstall: pip\n",
      "    Found existing installation: pip 23.1.1\n",
      "    Uninstalling pip-23.1.1:\n",
      "      Successfully uninstalled pip-23.1.1\n",
      "Successfully installed pip-23.1.2\n"
     ]
    }
   ],
   "source": [
    "pip install --upgrade pip"
   ]
  },
  {
   "cell_type": "code",
   "execution_count": 1,
   "metadata": {},
   "outputs": [],
   "source": [
    "import math\n",
    "import random\n",
    "import numpy as np\n",
    "import pandas as pd\n",
    "import sounddevice as sd\n",
    "import matplotlib.pyplot as plt"
   ]
  },
  {
   "cell_type": "markdown",
   "metadata": {},
   "source": [
    "# 2. Gradiente Descendiente"
   ]
  },
  {
   "cell_type": "markdown",
   "metadata": {},
   "source": [
    "Se crea el algoritmo del Gradiente Descendiente, en una función, modificando un poco la del ejemplo del punto 2."
   ]
  },
  {
   "cell_type": "code",
   "execution_count": 28,
   "metadata": {},
   "outputs": [],
   "source": [
    "def yPredecida(a, b, c, d, x):\n",
    "    return a * np.sin(b * x + c) + d\n",
    "\n",
    "def gradientesDecendiente(x, y, epoch):\n",
    "    n = len(x)\n",
    "    rsl = []\n",
    "    lr =  0.01\n",
    "    batch = 500\n",
    "    a = random.random()\n",
    "    b = random.random()\n",
    "    c = random.random()\n",
    "    d = 0\n",
    "    \n",
    "    \n",
    "    for i in range(epoch):\n",
    "        a_gradiente = 0\n",
    "        b_gradiente = 0\n",
    "        c_gradiente = 0\n",
    "        d_gradiente = 0\n",
    "        e = 0\n",
    "\n",
    "        for _ in range(batch):\n",
    "            ix = int(random.uniform(0, n))\n",
    "            y_pred = y_predict(a, b, c, d, x[ix])\n",
    "            error = y[ix] - y_pred\n",
    "\n",
    "            e += error**2\n",
    "            a_gradiente += 2 * error * -1.0*np.sin(b * x[ix] + c)\n",
    "            b_gradiente += 2 * error * -1.0*a * np.cos(b * x[ix] + c) * x[ix]\n",
    "            c_gradiente += 2 * error * -1.0*a * np.cos(b * x[ix] + c)\n",
    "            d_gradiente += 2 * error\n",
    "\n",
    "        a -= lr * a_gradiente / batch\n",
    "        b -= lr * b_gradiente / batch\n",
    "        c -= lr * c_gradiente / batch\n",
    "\n",
    "        e /= batch\n",
    "        rsl.append([a, b, c, e])\n",
    "        print(f\"Amplitude: {a}, Period: {b}, Constant: {c}, Error: {e}\")\n",
    "\n",
    "    return rsl, a, b, c"
   ]
  },
  {
   "cell_type": "code",
   "execution_count": 29,
   "metadata": {},
   "outputs": [],
   "source": [
    "data = pd.read_csv('data/senal.csv')"
   ]
  },
  {
   "cell_type": "markdown",
   "metadata": {},
   "source": [
    "Cargamos los datos a la varibles x, y"
   ]
  },
  {
   "cell_type": "code",
   "execution_count": 30,
   "metadata": {},
   "outputs": [],
   "source": [
    "x = data['x'].values\n",
    "y = data['y'].values"
   ]
  },
  {
   "cell_type": "code",
   "execution_count": 31,
   "metadata": {},
   "outputs": [],
   "source": [
    "epoch = [1000, 2000]"
   ]
  },
  {
   "cell_type": "markdown",
   "metadata": {},
   "source": [
    "### Aplicamos la funcion gradiente decendiente con 10 epoch"
   ]
  },
  {
   "cell_type": "code",
   "execution_count": 32,
   "metadata": {},
   "outputs": [
    {
     "name": "stdout",
     "output_type": "stream",
     "text": [
      "Amplitude: 0.49569875511758077, Period: 0.39413199827980955, Constant: 0.9752931187719338, Error: 4.797313859542397\n",
      "Amplitude: 0.47906623174657126, Period: 0.3934731845098382, Constant: 0.9755017573460562, Error: 4.492488223498238\n",
      "Amplitude: 0.46625568930151556, Period: 0.39240305812542414, Constant: 0.9755946667569997, Error: 4.346111593383316\n",
      "Amplitude: 0.45107053509964234, Period: 0.39155732254101594, Constant: 0.9757166007762171, Error: 4.490994497083157\n",
      "Amplitude: 0.43763225399005934, Period: 0.3904711374627751, Constant: 0.9757369200737223, Error: 4.386638789652988\n",
      "Amplitude: 0.4176362895519304, Period: 0.38998082756338587, Constant: 0.9759256059000159, Error: 4.8708578615211895\n",
      "Amplitude: 0.40271968986433737, Period: 0.38915394610932585, Constant: 0.976035667499917, Error: 4.559423075292863\n",
      "Amplitude: 0.3844707772507972, Period: 0.3884249594219116, Constant: 0.9761070703919396, Error: 4.805819626741291\n",
      "Amplitude: 0.36719048378747715, Period: 0.3878492807940319, Constant: 0.9762689882776121, Error: 4.757488680548409\n",
      "Amplitude: 0.3523610993214506, Period: 0.3874620803358607, Constant: 0.9765734811123333, Error: 4.548284133651535\n"
     ]
    }
   ],
   "source": [
    "resultados, a, b, c = gradientesDecendiente(x, y,epoch =10)"
   ]
  },
  {
   "cell_type": "markdown",
   "metadata": {},
   "source": [
    "Creamos una tabla con los datos"
   ]
  },
  {
   "cell_type": "code",
   "execution_count": 33,
   "metadata": {},
   "outputs": [
    {
     "name": "stdout",
     "output_type": "stream",
     "text": [
      "      error    period  amplitude  constant\n",
      "0  0.495699  0.394132   0.975293  4.797314\n",
      "1  0.479066  0.393473   0.975502  4.492488\n",
      "2  0.466256  0.392403   0.975595  4.346112\n",
      "3  0.451071  0.391557   0.975717  4.490994\n",
      "4  0.437632  0.390471   0.975737  4.386639\n",
      "5  0.417636  0.389981   0.975926  4.870858\n",
      "6  0.402720  0.389154   0.976036  4.559423\n",
      "7  0.384471  0.388425   0.976107  4.805820\n",
      "8  0.367190  0.387849   0.976269  4.757489\n",
      "9  0.352361  0.387462   0.976573  4.548284\n"
     ]
    }
   ],
   "source": [
    "tablaResultados = pd.DataFrame(resultados, columns=['error', 'period', 'amplitude','constant'])\n",
    "print(tablaResultados)"
   ]
  },
  {
   "cell_type": "markdown",
   "metadata": {},
   "source": [
    "Generamos la señal"
   ]
  },
  {
   "cell_type": "code",
   "execution_count": 34,
   "metadata": {},
   "outputs": [
    {
     "data": {
      "text/plain": [
       "[<matplotlib.lines.Line2D at 0x2518e02b090>]"
      ]
     },
     "execution_count": 34,
     "metadata": {},
     "output_type": "execute_result"
    },
    {
     "data": {
      "image/png": "[encoded data removed]",
      "text/plain": [
       "<Figure size 640x480 with 1 Axes>"
      ]
     },
     "metadata": {},
     "output_type": "display_data"
    }
   ],
   "source": [
    "plt.title(\"10 Epoch\")\n",
    "plt.xlabel('x')\n",
    "plt.ylabel(\"y\")\n",
    "plt.plot(y)\n",
    "ix = -1\n",
    "plt.plot([y_predict(a,b,c,0,xi)for xi in x[:ix]])"
   ]
  },
  {
   "cell_type": "markdown",
   "metadata": {},
   "source": [
    "### Aplicamos la funcion gradiente decendiente con 400 epoch"
   ]
  },
  {
   "cell_type": "code",
   "execution_count": 35,
   "metadata": {},
   "outputs": [
    {
     "name": "stdout",
     "output_type": "stream",
     "text": [
      "Amplitude: 0.5126134972283638, Period: 0.6376963029584757, Constant: 0.24373064721644655, Error: 4.633144267042813\n",
      "Amplitude: 0.49569026337883204, Period: 0.6322644646933067, Constant: 0.24131145371925422, Error: 4.436322218548618\n",
      "Amplitude: 0.4806468931808228, Period: 0.6267585248476665, Constant: 0.2386884308649694, Error: 4.257893077949931\n",
      "Amplitude: 0.4654417723922304, Period: 0.621662538957494, Constant: 0.23655637223121678, Error: 4.451618315462054\n",
      "Amplitude: 0.448145887460611, Period: 0.6161919297230487, Constant: 0.23429082476503116, Error: 4.895463958296218\n",
      "Amplitude: 0.43405434805495247, Period: 0.6109847727322596, Constant: 0.23215490667305447, Error: 4.714952269135043\n",
      "Amplitude: 0.4200874604566604, Period: 0.6055081173933113, Constant: 0.22962491021871775, Error: 4.664228869072414\n",
      "Amplitude: 0.4047052058233904, Period: 0.5998871468965193, Constant: 0.2268881541541009, Error: 4.742757978555738\n",
      "Amplitude: 0.39181279930078844, Period: 0.5953923658488504, Constant: 0.22490250300996792, Error: 4.161481491604526\n",
      "Amplitude: 0.3780392716449246, Period: 0.5904892590781806, Constant: 0.22269361444659194, Error: 4.57553051973745\n",
      "Amplitude: 0.3619256353178852, Period: 0.5854737111365322, Constant: 0.22041080856472758, Error: 4.734386260820087\n",
      "Amplitude: 0.3503024317177881, Period: 0.5810995594392917, Constant: 0.21831771870356756, Error: 4.2115212846111\n",
      "Amplitude: 0.3387779688646719, Period: 0.5768720342862449, Constant: 0.21645814381438036, Error: 4.4568428988790005\n",
      "Amplitude: 0.3245320769681629, Period: 0.572256483118777, Constant: 0.21424621460209148, Error: 4.612446308333264\n",
      "Amplitude: 0.3135638727252769, Period: 0.568424654619218, Constant: 0.21257207078274692, Error: 4.329236629090697\n",
      "Amplitude: 0.3045119492445224, Period: 0.5651984720093344, Constant: 0.21120807502585895, Error: 3.900242899747771\n",
      "Amplitude: 0.2941385956324737, Period: 0.5619598380647914, Constant: 0.20998997583958037, Error: 4.145475305867468\n",
      "Amplitude: 0.2828225404979328, Period: 0.5583939042504252, Constant: 0.20841687082073615, Error: 4.351185344269034\n",
      "Amplitude: 0.2699489529171226, Period: 0.554373560713783, Constant: 0.2064152146203049, Error: 4.684140682064901\n",
      "Amplitude: 0.25792111317296473, Period: 0.5510069536803696, Constant: 0.20485798221119017, Error: 4.179220158352217\n",
      "Amplitude: 0.24659880231940712, Period: 0.5477096889057428, Constant: 0.2032753293545482, Error: 4.283519884687571\n",
      "Amplitude: 0.23804217092518343, Period: 0.5449912813475322, Constant: 0.20207258589363597, Error: 4.1012703657292375\n",
      "Amplitude: 0.22745450559715402, Period: 0.5420190264110158, Constant: 0.20067004125825974, Error: 4.211312703607748\n",
      "Amplitude: 0.21929024617522114, Period: 0.539562210071429, Constant: 0.19964739821196217, Error: 4.1678964064967365\n",
      "Amplitude: 0.20886533830682552, Period: 0.5367585584212821, Constant: 0.1982865380574535, Error: 4.2422285390023955\n",
      "Amplitude: 0.20301161328631356, Period: 0.5346905546734432, Constant: 0.19743484201160866, Error: 4.171908395263328\n",
      "Amplitude: 0.1919758139926297, Period: 0.5319378988106334, Constant: 0.19594391155746452, Error: 4.045418616495539\n",
      "Amplitude: 0.18011893898785328, Period: 0.5292962253229034, Constant: 0.19453945714729917, Error: 3.9706527678403924\n",
      "Amplitude: 0.1722813410908821, Period: 0.5272981157302592, Constant: 0.1936331353692129, Error: 4.1185093317529775\n",
      "Amplitude: 0.16227392091871345, Period: 0.5251986429993227, Constant: 0.19271544234949237, Error: 4.262413507374425\n",
      "Amplitude: 0.15553607826527582, Period: 0.5235812786740042, Constant: 0.192116741612376, Error: 4.199548661299517\n",
      "Amplitude: 0.1451124541734245, Period: 0.5216182189981491, Constant: 0.19119206813394884, Error: 4.068936850855269\n",
      "Amplitude: 0.13766609293522342, Period: 0.5201857577576663, Constant: 0.1906983489092772, Error: 4.0624743853482945\n",
      "Amplitude: 0.13008053921204166, Period: 0.5186832375514973, Constant: 0.19002513728346712, Error: 4.088575850809098\n",
      "Amplitude: 0.12127901815074571, Period: 0.5171605155401334, Constant: 0.18931908124074312, Error: 4.060096010734905\n",
      "Amplitude: 0.11560481049791578, Period: 0.5160433794397401, Constant: 0.18894369722853857, Error: 4.174207141995108\n",
      "Amplitude: 0.1047604803228509, Period: 0.5144363107968355, Constant: 0.18819277942435592, Error: 4.597927955965615\n",
      "Amplitude: 0.09648351204624689, Period: 0.5132124482051372, Constant: 0.18763298864033046, Error: 4.166136703979481\n",
      "Amplitude: 0.08759436399785053, Period: 0.5120234009843609, Constant: 0.18708606453076784, Error: 4.341260440109651\n",
      "Amplitude: 0.07937643210716179, Period: 0.5110102894738581, Constant: 0.18661063416192702, Error: 4.04210440268266\n",
      "Amplitude: 0.07282971807069552, Period: 0.510243628523733, Constant: 0.18634295996006062, Error: 4.129969840995733\n",
      "Amplitude: 0.06427881541885729, Period: 0.5093905561265655, Constant: 0.18595071193190363, Error: 4.097664045187624\n",
      "Amplitude: 0.05609847978886859, Period: 0.5086433832804722, Constant: 0.1856145177976263, Error: 4.17344787561582\n",
      "Amplitude: 0.04832103807639093, Period: 0.5080228358738654, Constant: 0.1853424229880577, Error: 4.050325028968979\n",
      "Amplitude: 0.04060713368684632, Period: 0.5074662538701913, Constant: 0.18507265178282106, Error: 4.0874063134422585\n",
      "Amplitude: 0.03131572792685191, Period: 0.5069510581682111, Constant: 0.1848340520806506, Error: 4.314012115484645\n",
      "Amplitude: 0.024198400860267644, Period: 0.5066225386700428, Constant: 0.18471158682424255, Error: 4.2692988186908725\n",
      "Amplitude: 0.016764402547269217, Period: 0.506361514322227, Constant: 0.18461073385896734, Error: 4.24333045724153\n",
      "Amplitude: 0.010573076807012364, Period: 0.5061986325323681, Constant: 0.18455605141089698, Error: 4.344665174085179\n",
      "Amplitude: 0.0036235745078469503, Period: 0.5060950327389686, Constant: 0.18452125938920388, Error: 4.095528229240858\n",
      "Amplitude: -0.0019250383187459346, Period: 0.5060629916539742, Constant: 0.1845098309303567, Error: 3.874957249495599\n",
      "Amplitude: -0.009139928074029802, Period: 0.5060829915418787, Constant: 0.18451729493692476, Error: 4.188184948465411\n",
      "Amplitude: -0.016443854854523363, Period: 0.5061867189814921, Constant: 0.1845689900107509, Error: 4.025116257085999\n",
      "Amplitude: -0.020533531085799236, Period: 0.5063117299751078, Constant: 0.1846098061261862, Error: 3.7642669150669334\n",
      "Amplitude: -0.02664629331765621, Period: 0.5065180065901915, Constant: 0.1846997605136975, Error: 4.090067191283399\n",
      "Amplitude: -0.0319608287560803, Period: 0.5067484585480883, Constant: 0.1847838274355315, Error: 3.7747257465910766\n",
      "Amplitude: -0.03461605509968908, Period: 0.5069685537308988, Constant: 0.18485180557011083, Error: 3.836701153224115\n",
      "Amplitude: -0.04297407082666673, Period: 0.5073523409043942, Constant: 0.1850055168531681, Error: 4.087864794224165\n",
      "Amplitude: -0.04785111187586705, Period: 0.5077008933243922, Constant: 0.18512520553234116, Error: 3.6968468109956603\n",
      "Amplitude: -0.053901164082929325, Period: 0.5082092266098186, Constant: 0.18537218532698313, Error: 4.116646272102327\n",
      "Amplitude: -0.06063640744564499, Period: 0.5087402355147119, Constant: 0.1855858014871232, Error: 3.887892448632295\n",
      "Amplitude: -0.06679888966937407, Period: 0.5092943658505379, Constant: 0.18579851465978767, Error: 3.713849485399764\n",
      "Amplitude: -0.07286416028039358, Period: 0.5099724449612392, Constant: 0.18611494920688182, Error: 3.90749839566818\n",
      "Amplitude: -0.07878972518078603, Period: 0.5106620668448614, Constant: 0.18640304466701918, Error: 3.837709806439282\n",
      "Amplitude: -0.08602688258494438, Period: 0.5115549359681318, Constant: 0.18686434069512367, Error: 3.9763928708655905\n",
      "Amplitude: -0.0908812810385931, Period: 0.5122455034362822, Constant: 0.18707201752369756, Error: 3.8552306124518636\n",
      "Amplitude: -0.09787568942678386, Period: 0.5132422683313548, Constant: 0.1875182717290885, Error: 4.23196234881994\n",
      "Amplitude: -0.10351867333010557, Period: 0.5141869642150313, Constant: 0.1879226075298207, Error: 3.969166186089511\n",
      "Amplitude: -0.108340275177456, Period: 0.5151160201573289, Constant: 0.1883004257214766, Error: 3.958402789050606\n",
      "Amplitude: -0.11463406137698996, Period: 0.5161998531254441, Constant: 0.18875884384246777, Error: 4.066269210798169\n",
      "Amplitude: -0.12035826067334424, Period: 0.5173097700081074, Constant: 0.18921977185445962, Error: 4.0628603687395906\n",
      "Amplitude: -0.1269710548435554, Period: 0.5185501743759291, Constant: 0.18981116950889343, Error: 3.8579620293158796\n",
      "Amplitude: -0.13179403218052752, Period: 0.5197340233628709, Constant: 0.19036170204173464, Error: 3.8884933632487684\n",
      "Amplitude: -0.13896169008036408, Period: 0.5210802569792252, Constant: 0.1909338505717759, Error: 3.8903890079993366\n",
      "Amplitude: -0.14353630347134796, Period: 0.5222218266995274, Constant: 0.1912651482777688, Error: 4.0852435603695465\n",
      "Amplitude: -0.14875048567389415, Period: 0.5234213277726145, Constant: 0.19156650078132434, Error: 4.154880676876604\n",
      "Amplitude: -0.15661210498151645, Period: 0.5250568805142135, Constant: 0.19230778006906069, Error: 3.9757436623744877\n",
      "Amplitude: -0.16153647536237503, Period: 0.5264908237599367, Constant: 0.19290990487541043, Error: 3.9191569132763773\n",
      "Amplitude: -0.1663239495281184, Period: 0.5277907151211486, Constant: 0.1933601083688779, Error: 3.761358247158184\n",
      "Amplitude: -0.17051177193819578, Period: 0.5289627102277769, Constant: 0.19363742796061373, Error: 3.674673380359967\n",
      "Amplitude: -0.17487890252756494, Period: 0.5304604182898435, Constant: 0.19422588473077151, Error: 4.051805641428281\n",
      "Amplitude: -0.17947017403321044, Period: 0.5319762962929375, Constant: 0.19482775249545384, Error: 3.8618638525917133\n",
      "Amplitude: -0.1829804084055137, Period: 0.5333253590015719, Constant: 0.19521031983986836, Error: 3.9113889511667375\n",
      "Amplitude: -0.18929711884713082, Period: 0.5351083438001722, Constant: 0.19595541151673734, Error: 3.8558648897052845\n",
      "Amplitude: -0.19410829818201067, Period: 0.5365636151017008, Constant: 0.196359505723864, Error: 3.7660486226462013\n",
      "Amplitude: -0.19664688275815917, Period: 0.5379299330713976, Constant: 0.1967067594935418, Error: 3.9395231185684314\n",
      "Amplitude: -0.19940554824939882, Period: 0.5392876877381798, Constant: 0.19702176161387938, Error: 3.910267299360272\n",
      "Amplitude: -0.20320992950605968, Period: 0.5410373300561399, Constant: 0.19767859001688073, Error: 4.099082218003596\n",
      "Amplitude: -0.2067972799714569, Period: 0.5426374346916254, Constant: 0.19822025509217203, Error: 3.8564824839492258\n",
      "Amplitude: -0.21227562562905808, Period: 0.5441519764063454, Constant: 0.1984169014327715, Error: 4.014656502142488\n",
      "Amplitude: -0.21485506943931548, Period: 0.5456133283846022, Constant: 0.19883413497872046, Error: 3.748263322631619\n",
      "Amplitude: -0.21627526012944753, Period: 0.5470625519442468, Constant: 0.1991916111611336, Error: 4.005071225102598\n",
      "Amplitude: -0.2208738439821287, Period: 0.5488858122246546, Constant: 0.19972853223243678, Error: 4.173669454927055\n",
      "Amplitude: -0.22459867420842827, Period: 0.5505512701299902, Constant: 0.20017632861362433, Error: 3.919205060795039\n",
      "Amplitude: -0.2287104081082458, Period: 0.5523547587379625, Constant: 0.20079582827953976, Error: 3.76823109708085\n",
      "Amplitude: -0.23160774594918093, Period: 0.5540188276971206, Constant: 0.20121211541497502, Error: 4.018598040909342\n",
      "Amplitude: -0.23490855050473414, Period: 0.555664708206492, Constant: 0.20166347204171517, Error: 3.716462773176948\n",
      "Amplitude: -0.23816806220117015, Period: 0.5575181724850126, Constant: 0.2022471712273202, Error: 3.977307328968236\n",
      "Amplitude: -0.24221573125210089, Period: 0.5594397115467497, Constant: 0.20279067927796574, Error: 4.0652255551603815\n",
      "Amplitude: -0.24353723430292853, Period: 0.5611245663398036, Constant: 0.2032844529946564, Error: 3.8598525054776305\n",
      "Amplitude: -0.24768014237458935, Period: 0.5629864919655337, Constant: 0.2037657026541551, Error: 3.909891854490134\n",
      "Amplitude: -0.25360084229747176, Period: 0.5651413654149239, Constant: 0.20445482462571124, Error: 3.9389919970000205\n",
      "Amplitude: -0.2569485172445251, Period: 0.5669739882799679, Constant: 0.20494206386405756, Error: 3.7435706225201084\n",
      "Amplitude: -0.2621719231613136, Period: 0.5691004370555545, Constant: 0.20554597203966546, Error: 3.9550573632663064\n",
      "Amplitude: -0.26489949519516254, Period: 0.5713712596623053, Constant: 0.20639900536382735, Error: 4.013629194870903\n",
      "Amplitude: -0.2678014956849896, Period: 0.5732824387540862, Constant: 0.20679314098498655, Error: 3.995645743478695\n",
      "Amplitude: -0.2692197329867217, Period: 0.5751080617035869, Constant: 0.20717662354497146, Error: 3.9287503418009497\n",
      "Amplitude: -0.2717020509312999, Period: 0.5770474195388865, Constant: 0.20750903070407245, Error: 4.110275567230662\n",
      "Amplitude: -0.2755903671683003, Period: 0.5791391448942, Constant: 0.20801196246954828, Error: 3.984614222928003\n",
      "Amplitude: -0.275522864568417, Period: 0.5805976898969223, Constant: 0.20797621272358602, Error: 3.835414209190737\n",
      "Amplitude: -0.2777014775389225, Period: 0.5824202636627251, Constant: 0.20827126314131708, Error: 3.8515310357993187\n",
      "Amplitude: -0.27917216022832353, Period: 0.5845111379496127, Constant: 0.20883950315840863, Error: 3.9377648735287076\n",
      "Amplitude: -0.2834274368582342, Period: 0.5869528393281043, Constant: 0.2096834757104097, Error: 3.8979377713467507\n",
      "Amplitude: -0.28581317052153454, Period: 0.5891111134919381, Constant: 0.21026896351342808, Error: 3.8415298542997394\n",
      "Amplitude: -0.2898807359626052, Period: 0.5913394101744099, Constant: 0.21080013224534405, Error: 3.968681626174151\n",
      "Amplitude: -0.29067664847926783, Period: 0.5929097539857131, Constant: 0.21076834753433346, Error: 3.7984185287551675\n",
      "Amplitude: -0.2935532168139496, Period: 0.5951332644526205, Constant: 0.21126348826170227, Error: 4.01384039883339\n",
      "Amplitude: -0.29323182204828235, Period: 0.5972878873338074, Constant: 0.21156824885052328, Error: 4.2745304977262935\n",
      "Amplitude: -0.29819100163034945, Period: 0.5997761205113588, Constant: 0.21242042033789454, Error: 3.7059148822657724\n",
      "Amplitude: -0.30052968844516115, Period: 0.6020062931703247, Constant: 0.2128822459859494, Error: 4.001070109066204\n",
      "Amplitude: -0.3033554846563177, Period: 0.6042461203851697, Constant: 0.21341805814837686, Error: 3.78285476962716\n",
      "Amplitude: -0.30868003250831694, Period: 0.6070976248180937, Constant: 0.21452905382206638, Error: 3.7251691782038683\n",
      "Amplitude: -0.31067151035721363, Period: 0.6093899845233006, Constant: 0.2150174654470869, Error: 3.897566599914335\n",
      "Amplitude: -0.3123513153276825, Period: 0.611657671254245, Constant: 0.21534318345175224, Error: 4.142746046912022\n",
      "Amplitude: -0.3133830163780407, Period: 0.6135968538524573, Constant: 0.21546471609098333, Error: 3.838405903512848\n",
      "Amplitude: -0.31587428711290055, Period: 0.6159522495754609, Constant: 0.21590591822836352, Error: 3.9972470515286935\n",
      "Amplitude: -0.3197950749357422, Period: 0.6181831842034821, Constant: 0.2162101579123606, Error: 3.923579089568252\n",
      "Amplitude: -0.3226981959069563, Period: 0.6209185714818107, Constant: 0.21697880872238776, Error: 3.9831764907812452\n",
      "Amplitude: -0.3249761715607162, Period: 0.6231588203224404, Constant: 0.21730671738397705, Error: 3.7707483744764603\n"
     ]
    },
    {
     "name": "stdout",
     "output_type": "stream",
     "text": [
      "Amplitude: -0.3274215107576331, Period: 0.6254088487278304, Constant: 0.2176229662088114, Error: 3.7961670979278543\n",
      "Amplitude: -0.3286245716311534, Period: 0.6279645398110694, Constant: 0.21815303226197932, Error: 3.9056969639753705\n",
      "Amplitude: -0.3326988308363823, Period: 0.630531896057793, Constant: 0.21866800050217378, Error: 3.9163493295871246\n",
      "Amplitude: -0.335321852466034, Period: 0.6323782067904659, Constant: 0.21864815644070595, Error: 3.5794685113992277\n",
      "Amplitude: -0.3358740865561104, Period: 0.634732423905442, Constant: 0.21900633716987913, Error: 3.7527241076733553\n",
      "Amplitude: -0.3360749616598529, Period: 0.6371138250240435, Constant: 0.21927155406995924, Error: 3.9110106430832037\n",
      "Amplitude: -0.34190459752380886, Period: 0.639727693195968, Constant: 0.21980685816733836, Error: 3.8935134637530986\n",
      "Amplitude: -0.34427619744752774, Period: 0.6424109899826992, Constant: 0.22030031776909478, Error: 3.967914535483214\n",
      "Amplitude: -0.34667291030607617, Period: 0.6453030786214211, Constant: 0.22101876187582292, Error: 3.8810530819686724\n",
      "Amplitude: -0.3483669890904253, Period: 0.6483090767969477, Constant: 0.22184515145121178, Error: 3.861333969973773\n",
      "Amplitude: -0.3499689989800807, Period: 0.6507699580537468, Constant: 0.22198179148937627, Error: 4.007642152595031\n",
      "Amplitude: -0.35119391214937146, Period: 0.6531717067314928, Constant: 0.22222459464137911, Error: 3.6708803658421805\n",
      "Amplitude: -0.350414414326197, Period: 0.6556135262493148, Constant: 0.222572097495052, Error: 3.576678005628293\n",
      "Amplitude: -0.3513521654815689, Period: 0.6584836022515859, Constant: 0.22312035871909328, Error: 3.908938514447335\n",
      "Amplitude: -0.3517229070471557, Period: 0.6612220885886614, Constant: 0.2235281997622522, Error: 3.8796630331082853\n",
      "Amplitude: -0.3515356351702877, Period: 0.6637579939349137, Constant: 0.2235639677038296, Error: 4.138353760786505\n",
      "Amplitude: -0.35583222384573215, Period: 0.6673179465631855, Constant: 0.22476108563447553, Error: 3.888465985531892\n",
      "Amplitude: -0.35864320798590243, Period: 0.6697079837996295, Constant: 0.22497279162211126, Error: 3.7150473827473043\n",
      "Amplitude: -0.36019766291732697, Period: 0.6721258390596426, Constant: 0.22513251823783434, Error: 3.6800717299707446\n",
      "Amplitude: -0.36216581288452904, Period: 0.6753981451755382, Constant: 0.22591226505789672, Error: 3.9235463765681518\n",
      "Amplitude: -0.3648901788557364, Period: 0.6780377209110718, Constant: 0.22631128755155225, Error: 3.693240119442043\n",
      "Amplitude: -0.36729750168373526, Period: 0.6811413746899213, Constant: 0.22694372645387054, Error: 3.913074213717693\n",
      "Amplitude: -0.37006001647851194, Period: 0.6839016245407684, Constant: 0.22734339128462502, Error: 3.7836704986850727\n",
      "Amplitude: -0.370217550760301, Period: 0.687380621728442, Constant: 0.22808573341095836, Error: 3.978843441948623\n",
      "Amplitude: -0.37479997934349313, Period: 0.6901534828658743, Constant: 0.22844952096650536, Error: 3.8854334244687414\n",
      "Amplitude: -0.37718075501212356, Period: 0.6928739929912918, Constant: 0.2286325311642083, Error: 3.8920603573808426\n",
      "Amplitude: -0.38031765488725094, Period: 0.695139581913124, Constant: 0.2285215691201382, Error: 3.7636310652954883\n",
      "Amplitude: -0.38288976819852427, Period: 0.6981385445855655, Constant: 0.22892860516868105, Error: 3.829070623132305\n",
      "Amplitude: -0.3855143760477656, Period: 0.7021095185758196, Constant: 0.23007581359696025, Error: 3.8560756476087037\n",
      "Amplitude: -0.3850581769367603, Period: 0.7045121125001861, Constant: 0.22980205835466153, Error: 3.863586963096022\n",
      "Amplitude: -0.3897320051960807, Period: 0.7075284773870526, Constant: 0.23020812233174404, Error: 3.919315029660974\n",
      "Amplitude: -0.3910513922273153, Period: 0.7105690908832077, Constant: 0.23032398980296911, Error: 4.034699699660573\n",
      "Amplitude: -0.39267229082730676, Period: 0.7137918618830437, Constant: 0.23071612741558925, Error: 3.865615199445787\n",
      "Amplitude: -0.39371598907690347, Period: 0.7166546987186024, Constant: 0.2308284599017992, Error: 3.796010312168901\n",
      "Amplitude: -0.3966908813176457, Period: 0.7180836159173005, Constant: 0.2300341882483271, Error: 3.5452091134355075\n",
      "Amplitude: -0.39859268483926386, Period: 0.7213473094337668, Constant: 0.23046006466432564, Error: 3.824755451202519\n",
      "Amplitude: -0.39826391421066903, Period: 0.7247698108315106, Constant: 0.23084289613730993, Error: 3.847570853729725\n",
      "Amplitude: -0.39986872773183124, Period: 0.7278004317402932, Constant: 0.23086652225158033, Error: 4.049562263637834\n",
      "Amplitude: -0.40149825962687097, Period: 0.7303491248429732, Constant: 0.2307484712361338, Error: 3.666815568291419\n",
      "Amplitude: -0.4049046820860836, Period: 0.7333027962150434, Constant: 0.23097716270090474, Error: 3.7989573584897447\n",
      "Amplitude: -0.40702496963641593, Period: 0.7360910852977732, Constant: 0.23096845541234448, Error: 3.7455247926806154\n",
      "Amplitude: -0.4103741412799238, Period: 0.73887410939391, Constant: 0.23104628365274582, Error: 3.694337574263317\n",
      "Amplitude: -0.4113985523195166, Period: 0.7411877477510431, Constant: 0.23068566761669443, Error: 3.5897895109027176\n",
      "Amplitude: -0.41343871078991246, Period: 0.7444807019863126, Constant: 0.23095828136377264, Error: 3.8005047408231554\n",
      "Amplitude: -0.41713335278572433, Period: 0.747401069517789, Constant: 0.2311760856458895, Error: 3.6240037554155746\n",
      "Amplitude: -0.41931934191264675, Period: 0.7500100211149229, Constant: 0.2309713435291713, Error: 3.6957839655258646\n",
      "Amplitude: -0.4195788180504753, Period: 0.7527590760172149, Constant: 0.23084277541913711, Error: 3.5389293504568253\n",
      "Amplitude: -0.4207183552640446, Period: 0.7561214344522492, Constant: 0.2309753724780451, Error: 3.8319052720450264\n",
      "Amplitude: -0.42075099889540796, Period: 0.7593997103285005, Constant: 0.2309577511249912, Error: 3.8581626625262815\n",
      "Amplitude: -0.42313181106226355, Period: 0.7623548694407394, Constant: 0.23079897018814746, Error: 3.988450124879119\n",
      "Amplitude: -0.42604534490842355, Period: 0.7654897057213702, Constant: 0.23100580815832233, Error: 3.6372477686649094\n",
      "Amplitude: -0.4277428136895668, Period: 0.7694284201354586, Constant: 0.2315804382834808, Error: 3.783294075211602\n",
      "Amplitude: -0.4290271418800133, Period: 0.7729710544443049, Constant: 0.23192978430251654, Error: 3.598258404173766\n",
      "Amplitude: -0.43031968181704505, Period: 0.7769423337431409, Constant: 0.2325231332127343, Error: 3.639783427544622\n",
      "Amplitude: -0.43287982546707043, Period: 0.779837803961638, Constant: 0.23241804183443132, Error: 3.7146836616086802\n",
      "Amplitude: -0.42976662171409896, Period: 0.7835091229087674, Constant: 0.2323460383157807, Error: 3.8061875465315276\n",
      "Amplitude: -0.43016691484087377, Period: 0.7859766625070007, Constant: 0.23175009445761136, Error: 3.6804557580009845\n",
      "Amplitude: -0.43312245706623315, Period: 0.7892472564490703, Constant: 0.2318214765939699, Error: 3.826228922465304\n",
      "Amplitude: -0.4342092956178452, Period: 0.7932136315944452, Constant: 0.23214236143021658, Error: 3.882625728312868\n",
      "Amplitude: -0.4334493016436015, Period: 0.7968870818751174, Constant: 0.2321423404031687, Error: 3.838431511846068\n",
      "Amplitude: -0.4347797545467591, Period: 0.80062583136233, Constant: 0.23241681633641548, Error: 3.746600733756574\n",
      "Amplitude: -0.4364103304614, Period: 0.8042960902222335, Constant: 0.23265184277357728, Error: 3.7321622998300885\n",
      "Amplitude: -0.4402759113904101, Period: 0.80715786154563, Constant: 0.23270582718471927, Error: 3.4318263906289035\n",
      "Amplitude: -0.4452045039389434, Period: 0.8112856356836431, Constant: 0.23339034440180645, Error: 3.8140722359126573\n",
      "Amplitude: -0.444318656652715, Period: 0.8145407839627462, Constant: 0.23301444511924932, Error: 3.7943617323184062\n",
      "Amplitude: -0.44455300313571244, Period: 0.8177276138240718, Constant: 0.23273504987621707, Error: 3.6593009491581663\n",
      "Amplitude: -0.44679575305192853, Period: 0.8210600188324385, Constant: 0.23253079316074854, Error: 3.952150522937401\n",
      "Amplitude: -0.44889149022925806, Period: 0.8249763936965165, Constant: 0.2328061729060153, Error: 3.785873161905366\n",
      "Amplitude: -0.45003337573099883, Period: 0.8284838152752005, Constant: 0.23284456478708263, Error: 3.522060618430735\n",
      "Amplitude: -0.4491558620348001, Period: 0.8332759979422837, Constant: 0.2332164197065502, Error: 4.029485429118356\n",
      "Amplitude: -0.451050472050357, Period: 0.8361555162788482, Constant: 0.23265319041899485, Error: 3.860288353658613\n",
      "Amplitude: -0.4531303831230338, Period: 0.83973589464327, Constant: 0.2327634860278522, Error: 3.5798503093459053\n",
      "Amplitude: -0.4563825426966366, Period: 0.8423950317294425, Constant: 0.23248765595387116, Error: 3.458023818013887\n",
      "Amplitude: -0.45988711052567716, Period: 0.8459377236467207, Constant: 0.2324405208530086, Error: 3.8293578717065953\n",
      "Amplitude: -0.4624386078494758, Period: 0.8489505965866013, Constant: 0.2321051276034639, Error: 3.6954810977138823\n",
      "Amplitude: -0.46273789352849026, Period: 0.85348836001323, Constant: 0.23241270787591653, Error: 3.845815120765772\n",
      "Amplitude: -0.46252122290193226, Period: 0.8575080692402272, Constant: 0.2322726894506019, Error: 3.879360527355149\n",
      "Amplitude: -0.466391057090291, Period: 0.8612498354281158, Constant: 0.2322905153074243, Error: 3.8276297781285784\n",
      "Amplitude: -0.4700175923087413, Period: 0.8655069778828821, Constant: 0.2325424221157341, Error: 3.928087921925404\n",
      "Amplitude: -0.4718970605629799, Period: 0.8688119318583869, Constant: 0.23211293656144164, Error: 3.803794826863427\n",
      "Amplitude: -0.47490743928807677, Period: 0.8727980097506794, Constant: 0.23216491268572986, Error: 3.8904144040367212\n",
      "Amplitude: -0.47660015149299195, Period: 0.8776281124973166, Constant: 0.23264651941975598, Error: 3.73926374689502\n",
      "Amplitude: -0.4787245766105193, Period: 0.8804854522292889, Constant: 0.23203876613415084, Error: 3.5720143164384277\n",
      "Amplitude: -0.48248341690297447, Period: 0.8835769044953641, Constant: 0.23143618246051673, Error: 3.979722128834424\n",
      "Amplitude: -0.48512528386007436, Period: 0.8875383446475085, Constant: 0.2313542819049278, Error: 3.8045131683723157\n",
      "Amplitude: -0.48611213418562077, Period: 0.8923833987857719, Constant: 0.23169615383350767, Error: 3.7221591566547985\n",
      "Amplitude: -0.490591375351979, Period: 0.8950700646089725, Constant: 0.23111368830766782, Error: 3.6537551796918524\n",
      "Amplitude: -0.4942886236869333, Period: 0.8981018403417456, Constant: 0.23050567274435851, Error: 3.7649136590182937\n",
      "Amplitude: -0.49365434886692444, Period: 0.9029463860098421, Constant: 0.2305265092331301, Error: 3.8521073403965036\n",
      "Amplitude: -0.4974993081094817, Period: 0.9062864367922515, Constant: 0.23032341193329545, Error: 3.4986591995172893\n",
      "Amplitude: -0.49831849857456945, Period: 0.9105651866580322, Constant: 0.23013148989162255, Error: 3.8187657609552947\n",
      "Amplitude: -0.5010311414017838, Period: 0.915234033174731, Constant: 0.23039853541039798, Error: 3.688282342716724\n",
      "Amplitude: -0.5016437651962241, Period: 0.9214662639289583, Constant: 0.23122037071815066, Error: 3.897757431600141\n",
      "Amplitude: -0.5035179374605507, Period: 0.9261502795137856, Constant: 0.2313589761630664, Error: 3.676895530663\n",
      "Amplitude: -0.506122284302589, Period: 0.9314385896517923, Constant: 0.23173177132751768, Error: 3.908023033318346\n",
      "Amplitude: -0.508621666672519, Period: 0.935602271883695, Constant: 0.23165394947112355, Error: 3.597782712958127\n",
      "Amplitude: -0.5099827426778074, Period: 0.9396913670914115, Constant: 0.23125135390478277, Error: 3.81792625526341\n",
      "Amplitude: -0.5107079167407135, Period: 0.9443216906217916, Constant: 0.23130459387026844, Error: 3.5684920039962926\n",
      "Amplitude: -0.5130657492242098, Period: 0.94869370639395, Constant: 0.23138334727287752, Error: 3.4966668399934933\n",
      "Amplitude: -0.5149423862457885, Period: 0.9531702542770157, Constant: 0.23128998900012712, Error: 3.6753961097537737\n",
      "Amplitude: -0.5173828334802987, Period: 0.9556687495021648, Constant: 0.23002734292776503, Error: 3.7870101178353917\n",
      "Amplitude: -0.5200945775502305, Period: 0.9592696567930291, Constant: 0.22952262327529863, Error: 3.6447306068707834\n",
      "Amplitude: -0.5226904022190829, Period: 0.9651981999857947, Constant: 0.2301526108626394, Error: 3.8096025556695725\n",
      "Amplitude: -0.5297116664702327, Period: 0.9676910254793114, Constant: 0.22927191856652637, Error: 3.6957263176955095\n",
      "Amplitude: -0.5316931530549664, Period: 0.9720295541061025, Constant: 0.22903723895516506, Error: 3.6342453033060234\n",
      "Amplitude: -0.534026428290893, Period: 0.9759821167586344, Constant: 0.22838199471796952, Error: 3.8843608885894456\n",
      "Amplitude: -0.5378586331651489, Period: 0.979674195228572, Constant: 0.22779109922022742, Error: 3.7372502825518428\n",
      "Amplitude: -0.5390082719127154, Period: 0.9831060966977541, Constant: 0.2268362569257631, Error: 3.709442091322137\n",
      "Amplitude: -0.543528206753668, Period: 0.9861774198783327, Constant: 0.22606476128464958, Error: 3.522184299588518\n",
      "Amplitude: -0.5459889491179519, Period: 0.9907282485351725, Constant: 0.22600439357656643, Error: 3.494794492786911\n",
      "Amplitude: -0.5483216712561472, Period: 0.9944965129791431, Constant: 0.22523141448299122, Error: 3.8069706652028747\n",
      "Amplitude: -0.5511384287139872, Period: 0.998947595176556, Constant: 0.22492684066552987, Error: 3.6778975500753317\n",
      "Amplitude: -0.5532309746014874, Period: 1.001081723051031, Constant: 0.22352100668558986, Error: 3.3924525843467235\n",
      "Amplitude: -0.5553809582805732, Period: 1.0056311034254932, Constant: 0.2230363407290994, Error: 3.8310812331100936\n",
      "Amplitude: -0.5586714555711215, Period: 1.0102110995517475, Constant: 0.22255486643454386, Error: 3.9163497802190173\n",
      "Amplitude: -0.5626987152246109, Period: 1.0118302681788662, Constant: 0.22070635219757975, Error: 3.6942494764154667\n",
      "Amplitude: -0.5644497648755197, Period: 1.014013164873016, Constant: 0.21883080889291104, Error: 3.8393149874922234\n",
      "Amplitude: -0.5682089692928788, Period: 1.017042085536189, Constant: 0.21790780811633825, Error: 3.419021434864679\n",
      "Amplitude: -0.5698406965988357, Period: 1.0219812207012133, Constant: 0.2175551386307495, Error: 3.7404387690066465\n",
      "Amplitude: -0.5695666619855294, Period: 1.026363816895299, Constant: 0.21668951061438238, Error: 3.837024515278931\n",
      "Amplitude: -0.5718338520364369, Period: 1.0287032636909441, Constant: 0.215086570929277, Error: 3.5741511825103265\n",
      "Amplitude: -0.5724733569399935, Period: 1.0330145640910804, Constant: 0.21425255183808517, Error: 3.7836809283285002\n",
      "Amplitude: -0.5759136933868094, Period: 1.0365630622784638, Constant: 0.21321779428276497, Error: 3.710205968298674\n",
      "Amplitude: -0.5778961718704974, Period: 1.0383847865053264, Constant: 0.21115949685167743, Error: 3.6799592414704163\n",
      "Amplitude: -0.5796647763016558, Period: 1.0441584926464946, Constant: 0.21085419887958762, Error: 4.009153290656329\n",
      "Amplitude: -0.581654023899941, Period: 1.0492789444421895, Constant: 0.21055057160516305, Error: 3.6691377391704467\n",
      "Amplitude: -0.5834496194700616, Period: 1.0540264143738098, Constant: 0.20998296816358875, Error: 3.7111799379119366\n",
      "Amplitude: -0.5838022524125432, Period: 1.0569785024726623, Constant: 0.20847488384613505, Error: 3.5356581072916313\n",
      "Amplitude: -0.5867867216923256, Period: 1.0614796543570777, Constant: 0.20792539023416626, Error: 3.6426097427257482\n",
      "Amplitude: -0.5864031043806545, Period: 1.0675667975390588, Constant: 0.20790825835578428, Error: 3.6346049095102813\n",
      "Amplitude: -0.590546113214355, Period: 1.0717514864415605, Constant: 0.20723560119486356, Error: 3.630355625603969\n",
      "Amplitude: -0.5930868423322072, Period: 1.0757862811635457, Constant: 0.20624986517858335, Error: 3.7232817252616184\n",
      "Amplitude: -0.5970792901839248, Period: 1.0782419640498762, Constant: 0.20477706622434164, Error: 3.391135562859439\n",
      "Amplitude: -0.6000144025001108, Period: 1.0832390497514677, Constant: 0.20443132766930006, Error: 3.57144482101135\n"
     ]
    },
    {
     "name": "stdout",
     "output_type": "stream",
     "text": [
      "Amplitude: -0.6021511414726293, Period: 1.0853459856449965, Constant: 0.20274291455286478, Error: 3.2856695588737006\n",
      "Amplitude: -0.602374181709251, Period: 1.0898075912607286, Constant: 0.20173580822302983, Error: 3.7329911631883435\n",
      "Amplitude: -0.606466228036797, Period: 1.0924233951521158, Constant: 0.20025168682815309, Error: 3.497981373412252\n",
      "Amplitude: -0.6071311815312618, Period: 1.0947293530042292, Constant: 0.1980561553117088, Error: 3.758679622882781\n",
      "Amplitude: -0.6116052178500904, Period: 1.097581935730877, Constant: 0.19654496644496283, Error: 3.622495910044366\n",
      "Amplitude: -0.6143957520275753, Period: 1.1034569454707874, Constant: 0.1962830218898374, Error: 3.7613929121832035\n",
      "Amplitude: -0.6168252207996684, Period: 1.105985758134936, Constant: 0.1943447079124895, Error: 3.696193684138718\n",
      "Amplitude: -0.6177956994333177, Period: 1.1104064413642094, Constant: 0.19321673834892628, Error: 3.7360681284064685\n",
      "Amplitude: -0.6184299945261323, Period: 1.1132989480348876, Constant: 0.19158910217323621, Error: 3.409002844877251\n",
      "Amplitude: -0.6222632456492619, Period: 1.116483022129229, Constant: 0.19004782675794257, Error: 3.654842640901309\n",
      "Amplitude: -0.6246234643307733, Period: 1.119491963607563, Constant: 0.1884009968605186, Error: 3.578548569295969\n",
      "Amplitude: -0.6261117962258855, Period: 1.122224728672395, Constant: 0.186456319118866, Error: 3.649846788154306\n",
      "Amplitude: -0.6272911568731733, Period: 1.1261529133530925, Constant: 0.1849830732067242, Error: 3.73074074112354\n",
      "Amplitude: -0.6301302163218478, Period: 1.129233165247664, Constant: 0.1833802084573475, Error: 3.5433422998487925\n",
      "Amplitude: -0.6330801048518973, Period: 1.1330670507509786, Constant: 0.18198417237847914, Error: 3.76122807858774\n",
      "Amplitude: -0.6335049737941847, Period: 1.1381513798117762, Constant: 0.18087595447590255, Error: 3.8129138818628356\n",
      "Amplitude: -0.6385338850169734, Period: 1.140925635780538, Constant: 0.17915261878141278, Error: 3.612472253906421\n",
      "Amplitude: -0.6424428122732067, Period: 1.1431859635340018, Constant: 0.17714521212844775, Error: 3.546554898518164\n",
      "Amplitude: -0.6435316979983382, Period: 1.1485500440143068, Constant: 0.176342820799316, Error: 3.7171395199360684\n",
      "Amplitude: -0.647766522381096, Period: 1.1509771691503823, Constant: 0.17406794503701994, Error: 3.8207603869188187\n",
      "Amplitude: -0.6476648886959273, Period: 1.1538239015244716, Constant: 0.171576552611836, Error: 3.9196258528220618\n",
      "Amplitude: -0.6502494680063963, Period: 1.1577286781898855, Constant: 0.1701900625675866, Error: 3.5665600380225464\n",
      "Amplitude: -0.6542414548382355, Period: 1.1600097474952897, Constant: 0.16817904971545822, Error: 3.4473337464981686\n",
      "Amplitude: -0.6584472480949808, Period: 1.1638091258119283, Constant: 0.16672547627237363, Error: 3.6526346657387223\n",
      "Amplitude: -0.6631815415098687, Period: 1.1650890745460745, Constant: 0.16403234042159046, Error: 3.5722481881914048\n",
      "Amplitude: -0.6642654367120766, Period: 1.164458899838387, Constant: 0.16018516646445108, Error: 3.5364953902640544\n",
      "Amplitude: -0.6674784872288982, Period: 1.1695206114468164, Constant: 0.15927187498958142, Error: 3.620243574064825\n",
      "Amplitude: -0.6683739162159994, Period: 1.1717169622631733, Constant: 0.15682480792532044, Error: 3.5318774219697455\n",
      "Amplitude: -0.6715152332317897, Period: 1.1758075469860065, Constant: 0.1557242042539675, Error: 3.3326224582112913\n",
      "Amplitude: -0.6745173650676408, Period: 1.177599361063154, Constant: 0.153326535815019, Error: 3.403852607101823\n",
      "Amplitude: -0.6755300893046364, Period: 1.182389984740696, Constant: 0.1520745474869566, Error: 3.602696967029238\n",
      "Amplitude: -0.6781089923462995, Period: 1.18559677019662, Constant: 0.15002125255308923, Error: 3.6710303779685782\n",
      "Amplitude: -0.6791974774746804, Period: 1.1887559510093666, Constant: 0.14812497511195924, Error: 3.4384968857472593\n",
      "Amplitude: -0.6817986451619564, Period: 1.19185764443893, Constant: 0.14614317467705673, Error: 3.5763854283044414\n",
      "Amplitude: -0.6834669164626075, Period: 1.1963470668200213, Constant: 0.1447909181642173, Error: 3.519691749239258\n",
      "Amplitude: -0.684925005974509, Period: 1.1980881891503132, Constant: 0.1420301170825176, Error: 3.5514429873476994\n",
      "Amplitude: -0.6911402542652767, Period: 1.1991346722239105, Constant: 0.13930448687661628, Error: 3.434429344442478\n",
      "Amplitude: -0.694378236223455, Period: 1.2007509222928086, Constant: 0.1363936894211571, Error: 3.688508521002932\n",
      "Amplitude: -0.6968482033771414, Period: 1.2028736700127813, Constant: 0.13383578976141472, Error: 3.5402359420318312\n",
      "Amplitude: -0.6999313563462038, Period: 1.205374299567757, Constant: 0.1317162673467268, Error: 3.2875844230925675\n",
      "Amplitude: -0.703938210457049, Period: 1.2061158145508786, Constant: 0.1284452022189829, Error: 3.595508149266872\n",
      "Amplitude: -0.7066350519976301, Period: 1.2071933293334471, Constant: 0.12505452836018946, Error: 3.711533347344488\n",
      "Amplitude: -0.7081066362024738, Period: 1.2116164959410674, Constant: 0.12328924590069187, Error: 3.6794036593606063\n",
      "Amplitude: -0.7124107177751252, Period: 1.2128177816184305, Constant: 0.12032845524377567, Error: 3.4401864402861597\n",
      "Amplitude: -0.7161584763571178, Period: 1.2161814394984825, Constant: 0.11827702704888665, Error: 3.5231444489479595\n",
      "Amplitude: -0.7179202890096522, Period: 1.2184276598618597, Constant: 0.1156055987056311, Error: 3.4939307944999345\n",
      "Amplitude: -0.7230919679915678, Period: 1.2197205328332004, Constant: 0.11276930521020131, Error: 3.4160352584301283\n",
      "Amplitude: -0.7271755673545636, Period: 1.219990461431181, Constant: 0.10912656551982945, Error: 3.585403281287532\n",
      "Amplitude: -0.7286064774663356, Period: 1.2243442656548487, Constant: 0.10730572908863145, Error: 3.539493168379677\n",
      "Amplitude: -0.730295060212209, Period: 1.2286286667815371, Constant: 0.10583421492462292, Error: 3.3189361373643402\n",
      "Amplitude: -0.7321755904062146, Period: 1.2336858196924263, Constant: 0.10442826497690325, Error: 3.5645052343789083\n",
      "Amplitude: -0.7369392131283018, Period: 1.238580156964768, Constant: 0.10318106698613644, Error: 3.4382017857127836\n",
      "Amplitude: -0.7381370620702848, Period: 1.2380859660587407, Constant: 0.09871388281176445, Error: 3.69894425190893\n",
      "Amplitude: -0.7405112528240617, Period: 1.241304919241075, Constant: 0.0961971556113819, Error: 3.647376578870924\n",
      "Amplitude: -0.7407681660122296, Period: 1.2435566728923588, Constant: 0.09304723315593733, Error: 3.6389406999806426\n",
      "Amplitude: -0.7415409673577299, Period: 1.250227045627564, Constant: 0.09230392844362179, Error: 3.4982328943695293\n",
      "Amplitude: -0.7432078707575185, Period: 1.2483379801294152, Constant: 0.08739998206404913, Error: 3.4694031872591085\n",
      "Amplitude: -0.7445110063457437, Period: 1.2506077905629898, Constant: 0.08434006866090887, Error: 3.633522526824861\n",
      "Amplitude: -0.7482571760464927, Period: 1.2530968175005521, Constant: 0.08175965682393004, Error: 3.4214149587342777\n",
      "Amplitude: -0.7507851248506142, Period: 1.2553238803320736, Constant: 0.07881060511795646, Error: 3.4747301358655815\n",
      "Amplitude: -0.7512452956408733, Period: 1.256853405939245, Constant: 0.07513976233397154, Error: 3.687420581356322\n",
      "Amplitude: -0.7529332828828628, Period: 1.2595888246623759, Constant: 0.0721995828476975, Error: 3.6506085484903887\n",
      "Amplitude: -0.7558063460453305, Period: 1.2637132775263324, Constant: 0.06998621369388668, Error: 3.6640154677243335\n",
      "Amplitude: -0.7573140883020548, Period: 1.2666935448626733, Constant: 0.06723923882320929, Error: 3.5128014504534892\n",
      "Amplitude: -0.7598967369235834, Period: 1.2704685868092123, Constant: 0.06526567780813541, Error: 3.354537395707022\n",
      "Amplitude: -0.7615320099918895, Period: 1.2746673852792896, Constant: 0.0629701047409203, Error: 3.6400980638163705\n",
      "Amplitude: -0.7644091439442025, Period: 1.277297394309378, Constant: 0.060156606830398314, Error: 3.462665365289327\n",
      "Amplitude: -0.7658578963088922, Period: 1.2803514141324328, Constant: 0.057518770435583295, Error: 3.441594563818899\n",
      "Amplitude: -0.7690608117612461, Period: 1.2816241190055726, Constant: 0.05378763682623868, Error: 3.6009275261581255\n",
      "Amplitude: -0.7698133596821732, Period: 1.2839339061139012, Constant: 0.0503700516249306, Error: 3.6685893579344184\n",
      "Amplitude: -0.7726287141854203, Period: 1.2873179170639482, Constant: 0.048065318283515616, Error: 3.29460294381382\n",
      "Amplitude: -0.7719591164862998, Period: 1.2865958187615179, Constant: 0.043229186178401866, Error: 3.516372651936003\n",
      "Amplitude: -0.7746349774104162, Period: 1.2896497806111986, Constant: 0.040632964885481335, Error: 3.430328697194922\n"
     ]
    },
    {
     "name": "stdout",
     "output_type": "stream",
     "text": [
      "Amplitude: -0.7761990821284072, Period: 1.2950689042501764, Constant: 0.03898894908216102, Error: 3.513075180215352\n",
      "Amplitude: -0.7785348659282375, Period: 1.29730151113135, Constant: 0.035844629420243815, Error: 3.400994508474593\n",
      "Amplitude: -0.7811973644042127, Period: 1.2966056833160537, Constant: 0.031255424764663226, Error: 3.4448005898768805\n",
      "Amplitude: -0.7843732248577493, Period: 1.2985853117414081, Constant: 0.027669203503508065, Error: 3.6731942511632765\n",
      "Amplitude: -0.7869755614236665, Period: 1.3003706690893804, Constant: 0.02408402642031811, Error: 3.544461425359533\n",
      "Amplitude: -0.7908810795257227, Period: 1.2998861504584245, Constant: 0.019781139270070053, Error: 3.3408431280460555\n",
      "Amplitude: -0.7920182385536839, Period: 1.3008255075862736, Constant: 0.01580123354133957, Error: 3.4522221552140615\n",
      "Amplitude: -0.7931475298129682, Period: 1.3040098186739442, Constant: 0.012513541898803413, Error: 3.7145430181934334\n",
      "Amplitude: -0.7954274458521416, Period: 1.3043638706858967, Constant: 0.008347824090943836, Error: 3.436648331426979\n",
      "Amplitude: -0.7958187781754008, Period: 1.3070967344009747, Constant: 0.004905960401326891, Error: 3.593405147880668\n",
      "Amplitude: -0.7979565281258161, Period: 1.3099762088291818, Constant: 0.0017012175532243328, Error: 3.5635918121337515\n",
      "Amplitude: -0.7996253715097567, Period: 1.3135740471921589, Constant: -0.001178302607914389, Error: 3.528796757505918\n",
      "Amplitude: -0.8028688966545942, Period: 1.31342756172579, Constant: -0.005511734219975417, Error: 3.3339844734346915\n",
      "Amplitude: -0.8056170657534927, Period: 1.3196294580455141, Constant: -0.007307892763289921, Error: 3.7329729751267986\n",
      "Amplitude: -0.809248483979143, Period: 1.3190335826531128, Constant: -0.011822735519268386, Error: 3.2963765938528957\n",
      "Amplitude: -0.8108796566107386, Period: 1.3185270192658032, Constant: -0.01675062311594496, Error: 3.474462605387128\n",
      "Amplitude: -0.8109818775905046, Period: 1.3231453362926964, Constant: -0.01953398912207584, Error: 3.6347395391444866\n",
      "Amplitude: -0.8118823895920805, Period: 1.324677450938732, Constant: -0.023888835343067263, Error: 3.699097446098287\n",
      "Amplitude: -0.8167322618810452, Period: 1.324762927741698, Constant: -0.028023435531103934, Error: 3.336774751267462\n",
      "Amplitude: -0.8181001367301897, Period: 1.3263408183741152, Constant: -0.03168834943048411, Error: 3.2919868014213116\n",
      "Amplitude: -0.8179875800475205, Period: 1.326025767083469, Constant: -0.036566136091435775, Error: 3.3091866514996475\n",
      "Amplitude: -0.821763952493192, Period: 1.3294854890569283, Constant: -0.03942778099168916, Error: 3.4545003002496815\n",
      "Amplitude: -0.822861775565015, Period: 1.3306913049507272, Constant: -0.04345444595101357, Error: 3.3839951851147214\n",
      "Amplitude: -0.8252132659215797, Period: 1.3331585192224233, Constant: -0.04713649060152572, Error: 3.533482966577451\n",
      "Amplitude: -0.828076000286282, Period: 1.3384052865531288, Constant: -0.04920836917374958, Error: 3.4548479426794794\n",
      "Amplitude: -0.8309446903706534, Period: 1.3398991159562212, Constant: -0.05286312820947737, Error: 3.2530872610372157\n",
      "Amplitude: -0.8328450104735244, Period: 1.3406619045289827, Constant: -0.05783797700188288, Error: 3.7444106803232\n",
      "Amplitude: -0.8363560382054107, Period: 1.3434485946190808, Constant: -0.06123505606136164, Error: 3.463897922352021\n",
      "Amplitude: -0.8366688862616664, Period: 1.3476963323839137, Constant: -0.06402645163094625, Error: 3.3609187277072934\n",
      "Amplitude: -0.8389890647616954, Period: 1.3511232889690072, Constant: -0.06704091306474064, Error: 3.3347205061906458\n",
      "Amplitude: -0.840672902543765, Period: 1.352171575493367, Constant: -0.07153597397202695, Error: 3.4964000338776295\n",
      "Amplitude: -0.8432903748450155, Period: 1.3527413963845405, Constant: -0.07594120889845081, Error: 3.3414232459887794\n",
      "Amplitude: -0.8458098616091373, Period: 1.3547068509597295, Constant: -0.07995521657926702, Error: 3.4823546711358087\n",
      "Amplitude: -0.8478908318341949, Period: 1.356283252318192, Constant: -0.08381149747657148, Error: 3.229084664233308\n",
      "Amplitude: -0.8522345179713057, Period: 1.3568445109713934, Constant: -0.0880731084132875, Error: 3.27369976272691\n",
      "Amplitude: -0.8540511216593943, Period: 1.3578844145689792, Constant: -0.09295388600460902, Error: 3.6169852720551448\n",
      "Amplitude: -0.8563247531343858, Period: 1.3581949401226332, Constant: -0.09765239474499997, Error: 3.330377911106194\n",
      "Amplitude: -0.8587211832602072, Period: 1.362162265660495, Constant: -0.10045162669863739, Error: 3.2950990510653293\n",
      "Amplitude: -0.8598176588987301, Period: 1.3674928934837374, Constant: -0.10291371002722133, Error: 3.3831716346640865\n",
      "Amplitude: -0.861421661463613, Period: 1.3683646920576071, Constant: -0.10783419321230348, Error: 3.5234322204755\n",
      "Amplitude: -0.8636337970405694, Period: 1.3685259373848575, Constant: -0.11353056549602378, Error: 3.814749456814197\n",
      "Amplitude: -0.8655740779716786, Period: 1.3722212913793628, Constant: -0.11714630441592562, Error: 3.5932083147666942\n",
      "Amplitude: -0.8662268161671941, Period: 1.3774497832297625, Constant: -0.1201967558025554, Error: 3.608378494017951\n",
      "Amplitude: -0.8679960430297811, Period: 1.379067481485779, Constant: -0.12470870811961318, Error: 3.441462145666235\n",
      "Amplitude: -0.8700315604341737, Period: 1.3814815725771636, Constant: -0.12838945404276328, Error: 3.2365291581982043\n",
      "Amplitude: -0.8712519125286954, Period: 1.386285257755043, Constant: -0.130996432477902, Error: 3.2666070102853375\n",
      "Amplitude: -0.874205102400788, Period: 1.3915929132129954, Constant: -0.13389585956224032, Error: 3.6175079387741778\n",
      "Amplitude: -0.8737849637813618, Period: 1.3953758774388332, Constant: -0.1379798701485392, Error: 3.651053264366522\n",
      "Amplitude: -0.8756017762161917, Period: 1.3976484999827425, Constant: -0.1423262520351376, Error: 3.4702946053843675\n",
      "Amplitude: -0.8763453027877873, Period: 1.39938642723067, Constant: -0.147040977982784, Error: 3.4376960470839486\n",
      "Amplitude: -0.8780607265476854, Period: 1.4027974504808878, Constant: -0.15073593721452358, Error: 3.4369852480541656\n",
      "Amplitude: -0.8811568733607026, Period: 1.4071293996834113, Constant: -0.15345258299006576, Error: 3.2255087820457886\n",
      "Amplitude: -0.8830754918891612, Period: 1.411963773039585, Constant: -0.15603756041279113, Error: 3.1761075415162523\n",
      "Amplitude: -0.8850366527788212, Period: 1.414850825708954, Constant: -0.16047848874574772, Error: 3.6435841752166085\n",
      "Amplitude: -0.8870300336470597, Period: 1.4145087624786343, Constant: -0.16576577666559836, Error: 3.273981619319512\n",
      "Amplitude: -0.8909107698529111, Period: 1.4124296438538224, Constant: -0.17216702026709105, Error: 3.445851441266803\n",
      "Amplitude: -0.8935765489635248, Period: 1.4154336487972623, Constant: -0.17602585686619213, Error: 3.3536929754939533\n",
      "Amplitude: -0.8944614086917355, Period: 1.4182687000869352, Constant: -0.1801831239274737, Error: 3.353430769107136\n",
      "Amplitude: -0.8958144097646442, Period: 1.419329601953177, Constant: -0.18515290296962672, Error: 3.3420915457918405\n",
      "Amplitude: -0.8999210900263523, Period: 1.4213952351710142, Constant: -0.1893034566213918, Error: 3.325091016312126\n",
      "Amplitude: -0.9030565201462888, Period: 1.4221206177818844, Constant: -0.1942899383818303, Error: 3.281747577220526\n",
      "Amplitude: -0.9049370474910822, Period: 1.422108571439615, Constant: -0.1997553967936373, Error: 3.285531680355064\n",
      "Amplitude: -0.9107539207043395, Period: 1.4245105598184102, Constant: -0.20342092458918154, Error: 3.210055079623008\n",
      "Amplitude: -0.9131252743107674, Period: 1.4243540922708955, Constant: -0.20913958315702974, Error: 3.3549943917661373\n"
     ]
    }
   ],
   "source": [
    "resultados, a, b, c = gradientesDecendiente(x, y, epoch=400)"
   ]
  },
  {
   "cell_type": "code",
   "execution_count": 36,
   "metadata": {},
   "outputs": [
    {
     "name": "stdout",
     "output_type": "stream",
     "text": [
      "     Amplitude    Period  Constant     Error\n",
      "0     0.512613  0.637696  0.243731  4.633144\n",
      "1     0.495690  0.632264  0.241311  4.436322\n",
      "2     0.480647  0.626759  0.238688  4.257893\n",
      "3     0.465442  0.621663  0.236556  4.451618\n",
      "4     0.448146  0.616192  0.234291  4.895464\n",
      "..         ...       ...       ...       ...\n",
      "395  -0.899921  1.421395 -0.189303  3.325091\n",
      "396  -0.903057  1.422121 -0.194290  3.281748\n",
      "397  -0.904937  1.422109 -0.199755  3.285532\n",
      "398  -0.910754  1.424511 -0.203421  3.210055\n",
      "399  -0.913125  1.424354 -0.209140  3.354994\n",
      "\n",
      "[400 rows x 4 columns]\n"
     ]
    }
   ],
   "source": [
    "tablaResultados = pd.DataFrame(resultados, columns=['Amplitude', 'Period', 'Constant', 'Error'])\n",
    "print(tablaResultados)"
   ]
  },
  {
   "cell_type": "markdown",
   "metadata": {},
   "source": [
    "Dibujamos la señal"
   ]
  },
  {
   "cell_type": "code",
   "execution_count": 37,
   "metadata": {},
   "outputs": [
    {
     "data": {
      "text/plain": [
       "[<matplotlib.lines.Line2D at 0x2518f2c2710>]"
      ]
     },
     "execution_count": 37,
     "metadata": {},
     "output_type": "execute_result"
    },
    {
     "data": {
      "image/png": "[encoded data removed]",
      "text/plain": [
       "<Figure size 640x480 with 1 Axes>"
      ]
     },
     "metadata": {},
     "output_type": "display_data"
    }
   ],
   "source": [
    "plt.title(\"400 Epoch\")\n",
    "plt.xlabel('x')\n",
    "plt.ylabel(\"y\")\n",
    "plt.plot(y)\n",
    "ix = -1\n",
    "plt.plot([y_predict(a,b,c,0,xi)for xi in x[:ix]])"
   ]
  },
  {
   "cell_type": "markdown",
   "metadata": {},
   "source": [
    "### Por último utiliza los parámetros aprendidos, y crea la señal por un periodo más largo de tiempo long_s = [ y_predict(a,b,c,d,xi) for xi in np.arange(x_min , 20*math.pi, 0.001).astype(np.float32)], dibuja la señal, y escuchala utilizando la libraria (import sounddevice as sd y el método sd.play(long_s)"
   ]
  },
  {
   "cell_type": "markdown",
   "metadata": {},
   "source": [
    "Para 10 Epoch"
   ]
  },
  {
   "cell_type": "code",
   "execution_count": 38,
   "metadata": {},
   "outputs": [
    {
     "name": "stdout",
     "output_type": "stream",
     "text": [
      "Amplitude: 0.6756553058433464, Period: 0.5139956332231974, Constant: 0.7693520832657437, Error: 4.8201491536643735\n",
      "Amplitude: 0.6542058339298116, Period: 0.5125697379221363, Constant: 0.7693905196975261, Error: 5.149137875190863\n",
      "Amplitude: 0.6351927871471214, Period: 0.5106271505364992, Constant: 0.7691745520132893, Error: 4.924860836398398\n",
      "Amplitude: 0.6130833456054723, Period: 0.5088222862293107, Constant: 0.7689017085707753, Error: 5.2098295491374484\n",
      "Amplitude: 0.5928344836082635, Period: 0.5069100452325863, Constant: 0.768590240739779, Error: 5.020370188984115\n",
      "Amplitude: 0.5743249726055131, Period: 0.504950124973737, Constant: 0.7682985280994762, Error: 4.8693081261671045\n",
      "Amplitude: 0.5544988805940394, Period: 0.5032733840673985, Constant: 0.7681479514835103, Error: 5.050719617359243\n",
      "Amplitude: 0.5366048290961364, Period: 0.5021393235186699, Constant: 0.7683845483061282, Error: 4.824243412544469\n",
      "Amplitude: 0.5157696984720724, Period: 0.5008605509797722, Constant: 0.7683644560303337, Error: 5.052762466183611\n",
      "Amplitude: 0.4978791223713834, Period: 0.4986861935565916, Constant: 0.7679047989220912, Error: 4.919587120486207\n"
     ]
    }
   ],
   "source": [
    "resultados, a, b, c = gradientesDecendiente(x, y, epoch=10)"
   ]
  },
  {
   "cell_type": "code",
   "execution_count": 39,
   "metadata": {},
   "outputs": [
    {
     "name": "stdout",
     "output_type": "stream",
     "text": [
      "   Amplitude    Period  Constant     Error\n",
      "0   0.675655  0.513996  0.769352  4.820149\n",
      "1   0.654206  0.512570  0.769391  5.149138\n",
      "2   0.635193  0.510627  0.769175  4.924861\n",
      "3   0.613083  0.508822  0.768902  5.209830\n",
      "4   0.592834  0.506910  0.768590  5.020370\n",
      "5   0.574325  0.504950  0.768299  4.869308\n",
      "6   0.554499  0.503273  0.768148  5.050720\n",
      "7   0.536605  0.502139  0.768385  4.824243\n",
      "8   0.515770  0.500861  0.768364  5.052762\n",
      "9   0.497879  0.498686  0.767905  4.919587\n"
     ]
    }
   ],
   "source": [
    "tablaResultados = pd.DataFrame(resultados, columns=['Amplitude', 'Period', 'Constant', 'Error'])\n",
    "print(tablaResultados)"
   ]
  },
  {
   "cell_type": "code",
   "execution_count": 41,
   "metadata": {},
   "outputs": [],
   "source": [
    "xMinima = np.min(x)\n",
    "longitudSeñal = [yPredecida(a, b, c, 0, xi) for xi in np.arange(xMinima, 20 * math.pi, 0.001).astype(np.float32)]"
   ]
  },
  {
   "cell_type": "markdown",
   "metadata": {},
   "source": [
    "Señal"
   ]
  },
  {
   "cell_type": "code",
   "execution_count": 42,
   "metadata": {
    "scrolled": true
   },
   "outputs": [
    {
     "data": {
      "text/plain": [
       "Text(0.5, 1.0, 'Señal')"
      ]
     },
     "execution_count": 42,
     "metadata": {},
     "output_type": "execute_result"
    },
    {
     "data": {
      "image/png": "[encoded data removed]",
      "text/plain": [
       "<Figure size 640x480 with 1 Axes>"
      ]
     },
     "metadata": {},
     "output_type": "display_data"
    }
   ],
   "source": [
    "plt.plot(np.arange(xMinima, 20 * math.pi, 0.001), longitudSeñal)\n",
    "plt.xlabel('x')\n",
    "plt.ylabel('y')\n",
    "plt.title('Señal')"
   ]
  },
  {
   "cell_type": "markdown",
   "metadata": {},
   "source": [
    "Se reproduce la señal"
   ]
  },
  {
   "cell_type": "markdown",
   "metadata": {},
   "source": [
    "Para 400 Epoch"
   ]
  },
  {
   "cell_type": "code",
   "execution_count": 45,
   "metadata": {},
   "outputs": [
    {
     "name": "stdout",
     "output_type": "stream",
     "text": [
      "Amplitude: 0.44678879584678155, Period: 0.4994497776898438, Constant: 0.9601730215459647, Error: 4.282518643943827\n",
      "Amplitude: 0.4325211172049292, Period: 0.500285915219964, Constant: 0.9614034529229295, Error: 4.194295552961441\n",
      "Amplitude: 0.41885280939928277, Period: 0.5011295003827775, Constant: 0.9627234384590304, Error: 4.422953785390686\n",
      "Amplitude: 0.40653322984149143, Period: 0.5010723126835, Constant: 0.963575316318468, Error: 4.368123647591157\n",
      "Amplitude: 0.3930214296529261, Period: 0.5009862957340367, Constant: 0.9644433813137231, Error: 4.640056413822284\n",
      "Amplitude: 0.3814093063755447, Period: 0.5016294231427281, Constant: 0.9655339037689927, Error: 4.061485283195386\n",
      "Amplitude: 0.3675035591021732, Period: 0.5011160744481643, Constant: 0.9660463791393846, Error: 4.370396276938189\n",
      "Amplitude: 0.3526742814619931, Period: 0.5012312437705556, Constant: 0.966950174370922, Error: 4.839618563551169\n",
      "Amplitude: 0.33838504897384225, Period: 0.5015706980508482, Constant: 0.9678708658169738, Error: 4.530689663560586\n",
      "Amplitude: 0.32624734908001835, Period: 0.501652285099185, Constant: 0.9686100933229844, Error: 4.225238171956365\n",
      "Amplitude: 0.31344903905595467, Period: 0.5019101243148262, Constant: 0.9693973781187928, Error: 4.19080882405093\n",
      "Amplitude: 0.299857232983684, Period: 0.5022762556876696, Constant: 0.9702293878481124, Error: 4.335102307588569\n",
      "Amplitude: 0.28682263444560735, Period: 0.5020349208564666, Constant: 0.9707814713451122, Error: 4.54855822962974\n",
      "Amplitude: 0.27604252479561586, Period: 0.5017071770590189, Constant: 0.9711994983775294, Error: 3.9943156697744024\n",
      "Amplitude: 0.2631724559850409, Period: 0.5011100073095837, Constant: 0.9715197584084828, Error: 4.522128671359002\n",
      "Amplitude: 0.2505829045480283, Period: 0.5009983640959745, Constant: 0.972023355906093, Error: 4.309649538078625\n",
      "Amplitude: 0.23597005887499728, Period: 0.5011368552416573, Constant: 0.9725842211050986, Error: 4.250458090069713\n",
      "Amplitude: 0.22304846476296078, Period: 0.5013691569620805, Constant: 0.9732022032831424, Error: 4.29171245754863\n",
      "Amplitude: 0.21385206492767697, Period: 0.5011217864745818, Constant: 0.9735605050606984, Error: 4.051197755469173\n",
      "Amplitude: 0.20139874830118476, Period: 0.5013084991254949, Constant: 0.9741342384809732, Error: 4.435315160814409\n",
      "Amplitude: 0.19195368640784688, Period: 0.5014130696099169, Constant: 0.9746507208867022, Error: 4.228159350783441\n",
      "Amplitude: 0.17960477903155972, Period: 0.5014144100706309, Constant: 0.9750408323690216, Error: 4.142744950980808\n",
      "Amplitude: 0.16950431824002984, Period: 0.5013529429432817, Constant: 0.9754454925381392, Error: 4.4845061567710855\n",
      "Amplitude: 0.16136962592473295, Period: 0.5012108538764827, Constant: 0.9757385522118026, Error: 3.898328189546833\n",
      "Amplitude: 0.15271852927255183, Period: 0.501201142273298, Constant: 0.9760978698623411, Error: 4.081931009805996\n",
      "Amplitude: 0.14262534368279142, Period: 0.5011960220002856, Constant: 0.9764089332626616, Error: 3.936552315641693\n",
      "Amplitude: 0.13005877033469726, Period: 0.5012949229211449, Constant: 0.9767670258809575, Error: 4.323488389763638\n",
      "Amplitude: 0.118471236101264, Period: 0.5014143811463778, Constant: 0.977110636068615, Error: 4.1882103929135015\n",
      "Amplitude: 0.10831088263821703, Period: 0.5013916524992957, Constant: 0.9773732720189927, Error: 4.297050639100486\n",
      "Amplitude: 0.10071496233787997, Period: 0.5010659364903843, Constant: 0.9774643709321503, Error: 4.154700597720499\n",
      "Amplitude: 0.09044019119800831, Period: 0.5010242827541307, Constant: 0.9776680986651313, Error: 4.14579465539467\n",
      "Amplitude: 0.08260121756534325, Period: 0.5008074613364968, Constant: 0.9777642274380509, Error: 4.013531103169928\n",
      "Amplitude: 0.07845713527382543, Period: 0.5005196761714473, Constant: 0.9778191040623376, Error: 3.930384076346063\n",
      "Amplitude: 0.06782082383749555, Period: 0.5005783023009318, Constant: 0.9780202911219547, Error: 4.135108993719847\n",
      "Amplitude: 0.05744506122567193, Period: 0.5006060103023436, Constant: 0.9781795957259624, Error: 4.032145936323476\n",
      "Amplitude: 0.048168041288980605, Period: 0.5006043446785576, Constant: 0.9783045055899774, Error: 4.047653713029483\n",
      "Amplitude: 0.0388913273895929, Period: 0.5005837602162158, Constant: 0.9783943446530788, Error: 3.903497267477771\n",
      "Amplitude: 0.029766624915733262, Period: 0.5004937980746627, Constant: 0.9784297568845651, Error: 3.893864356963562\n",
      "Amplitude: 0.02301141999748093, Period: 0.5004085493871133, Constant: 0.9784538856252907, Error: 3.914693194637306\n",
      "Amplitude: 0.012840467103584597, Period: 0.5003676523478713, Constant: 0.9784848811408074, Error: 4.207791535388622\n",
      "Amplitude: 0.00642501048902485, Period: 0.5003530235265039, Constant: 0.97850604595131, Error: 3.8811793857293257\n",
      "Amplitude: -0.0017123305290848313, Period: 0.5003547901392444, Constant: 0.9785214186665875, Error: 3.987772268121545\n",
      "Amplitude: -0.007924994193227307, Period: 0.5003599142162531, Constant: 0.9785200267809316, Error: 3.9868016839614557\n",
      "Amplitude: -0.016089441414661898, Period: 0.500370450191232, Constant: 0.9785080323980823, Error: 3.9487869305355767\n",
      "Amplitude: -0.01929716529976889, Period: 0.5004254819284597, Constant: 0.9784955989835569, Error: 3.980818660931407\n",
      "Amplitude: -0.025694176742575056, Period: 0.5004708659113842, Constant: 0.9784751759290532, Error: 3.79733290534496\n",
      "Amplitude: -0.03360801443257982, Period: 0.5005208150190776, Constant: 0.9784399420748849, Error: 4.1073953062183195\n",
      "Amplitude: -0.040910040619717994, Period: 0.5005738906098798, Constant: 0.9783968346742248, Error: 3.750259658594086\n",
      "Amplitude: -0.04674979744843067, Period: 0.5006988641051121, Constant: 0.978358260879519, Error: 4.14580462400514\n",
      "Amplitude: -0.05460660732815589, Period: 0.500803840056058, Constant: 0.9783077723235764, Error: 3.9580910750895106\n",
      "Amplitude: -0.06218167563280351, Period: 0.5009217948598378, Constant: 0.9782460211249036, Error: 3.9061686844081867\n",
      "Amplitude: -0.06844087124562909, Period: 0.5011400777424275, Constant: 0.9782082637576698, Error: 4.032683450055878\n",
      "Amplitude: -0.07806354881494217, Period: 0.5011199374179379, Constant: 0.9780530525921929, Error: 3.913817739406781\n",
      "Amplitude: -0.08597753452733534, Period: 0.501161225966574, Constant: 0.9778938470647008, Error: 4.108625745173781\n",
      "Amplitude: -0.08853367724907511, Period: 0.5013956549322537, Constant: 0.9777924012523539, Error: 3.97773296730601\n",
      "Amplitude: -0.09356691863688109, Period: 0.5015929470183251, Constant: 0.9776761734239001, Error: 4.008722644565169\n",
      "Amplitude: -0.09918843062884188, Period: 0.5018145695627646, Constant: 0.9775669876491344, Error: 3.9609266261876557\n",
      "Amplitude: -0.10875061148010418, Period: 0.501792483059972, Constant: 0.9773173150838173, Error: 4.238205959234722\n",
      "Amplitude: -0.1175739121918799, Period: 0.5018746582356348, Constant: 0.9771204710246918, Error: 3.957010270330953\n",
      "Amplitude: -0.12257271176526266, Period: 0.5021205722169428, Constant: 0.9769579184872895, Error: 3.952753696347634\n",
      "Amplitude: -0.1280785950033132, Period: 0.5024731390513988, Constant: 0.9768586017238113, Error: 3.8349421863319244\n",
      "Amplitude: -0.1336190826144321, Period: 0.5028902317786368, Constant: 0.9767581997262242, Error: 4.055020736415689\n",
      "Amplitude: -0.1402436145442034, Period: 0.502971147745156, Constant: 0.976481711330016, Error: 4.035202401579193\n",
      "Amplitude: -0.1434427582246206, Period: 0.5036793255978028, Constant: 0.9765006410930833, Error: 3.888111056510549\n",
      "Amplitude: -0.14676808952631265, Period: 0.5043615075002204, Constant: 0.9764906557448035, Error: 3.9106633762427054\n",
      "Amplitude: -0.15062695017607186, Period: 0.5049638882500972, Constant: 0.9764592862209343, Error: 3.702526242228031\n",
      "Amplitude: -0.15393264958279737, Period: 0.5054512884476378, Constant: 0.976323161566374, Error: 4.006210223108418\n",
      "Amplitude: -0.1601205364340811, Period: 0.5056689138377871, Constant: 0.9760892140293382, Error: 3.779041186757103\n",
      "Amplitude: -0.16397885767650075, Period: 0.5065718552772457, Constant: 0.9761526980989333, Error: 3.9373802405995217\n",
      "Amplitude: -0.1673807116746286, Period: 0.5074146012728303, Constant: 0.9761809063749832, Error: 3.86540720445854\n",
      "Amplitude: -0.1706485857624633, Period: 0.5078877100140661, Constant: 0.9759963045626306, Error: 3.997906930713002\n",
      "Amplitude: -0.1735745333325729, Period: 0.5084969741611941, Constant: 0.9758522986932401, Error: 4.105080234040872\n",
      "Amplitude: -0.17765069572402403, Period: 0.5089643739113919, Constant: 0.9756832556205144, Error: 3.7715845774682455\n",
      "Amplitude: -0.18280114882941167, Period: 0.5095491164933303, Constant: 0.9755472463482048, Error: 3.941374983888151\n",
      "Amplitude: -0.1878557841049876, Period: 0.5100270100138371, Constant: 0.9753503874216632, Error: 3.9051573582596255\n",
      "Amplitude: -0.19036523968497226, Period: 0.5106528821401156, Constant: 0.975214866339309, Error: 3.7553250600816903\n",
      "Amplitude: -0.194790993268463, Period: 0.5112539543421452, Constant: 0.9750560172687984, Error: 3.849532646316025\n",
      "Amplitude: -0.19964344792407204, Period: 0.5120907653963077, Constant: 0.9749992212462418, Error: 3.9782161063449126\n",
      "Amplitude: -0.20398145971404424, Period: 0.5124039510149039, Constant: 0.9746948099368442, Error: 3.676140290193203\n",
      "Amplitude: -0.20889183834798236, Period: 0.5132173794500619, Constant: 0.9745938001501274, Error: 4.032277358290174\n",
      "Amplitude: -0.2126480078344978, Period: 0.5140703776945742, Constant: 0.9745146852192166, Error: 3.82986468282222\n",
      "Amplitude: -0.21676459369102075, Period: 0.5146266702568091, Constant: 0.9742553442309434, Error: 3.97702699703444\n",
      "Amplitude: -0.22087149059192723, Period: 0.5150182320562751, Constant: 0.9739111880202516, Error: 3.9719076782423985\n",
      "Amplitude: -0.22449114670926842, Period: 0.5155921116564534, Constant: 0.9736443718684318, Error: 3.9382778237358993\n",
      "Amplitude: -0.22894697376005332, Period: 0.5163831018772644, Constant: 0.9734804236150483, Error: 3.9452430368688236\n",
      "Amplitude: -0.2313929442787425, Period: 0.5175794058540868, Constant: 0.9735239256158544, Error: 3.740951129318786\n",
      "Amplitude: -0.23561119815238513, Period: 0.5188792149883559, Constant: 0.9735946417444145, Error: 3.96368725803712\n",
      "Amplitude: -0.23942014572872283, Period: 0.519543666458993, Constant: 0.9733774552214447, Error: 3.6910982116602047\n",
      "Amplitude: -0.2434392360754753, Period: 0.520338084802317, Constant: 0.9731752029209635, Error: 3.9333126883345413\n",
      "Amplitude: -0.24487837032487228, Period: 0.5207471534629682, Constant: 0.972728992199394, Error: 3.9367253171333614\n",
      "Amplitude: -0.2465715881439423, Period: 0.5216850927338509, Constant: 0.9726088800199075, Error: 3.729259808856206\n",
      "Amplitude: -0.2501814999607305, Period: 0.5235010956670871, Constant: 0.9728738835452416, Error: 4.045642808983777\n",
      "Amplitude: -0.25582632547027334, Period: 0.5239820023281523, Constant: 0.9724523845032328, Error: 4.183369335343324\n",
      "Amplitude: -0.2589520637646679, Period: 0.5244882973812721, Constant: 0.9720770692890949, Error: 3.823033008209108\n",
      "Amplitude: -0.2612846615612675, Period: 0.5252649618179926, Constant: 0.9718532915001099, Error: 3.6954762206521696\n",
      "Amplitude: -0.26496839985627474, Period: 0.5264406407557967, Constant: 0.971762719700475, Error: 4.0407231877140095\n",
      "Amplitude: -0.26915343442609, Period: 0.527475318969136, Constant: 0.9716573331517564, Error: 3.700784140157004\n",
      "Amplitude: -0.26897218238675386, Period: 0.529013531310188, Constant: 0.971725642979388, Error: 3.808937398966024\n",
      "Amplitude: -0.2704787794556406, Period: 0.5302157264776899, Constant: 0.971649315126409, Error: 3.809309914384605\n",
      "Amplitude: -0.2712067234352178, Period: 0.5315719732480557, Constant: 0.9716295356306459, Error: 3.8165020873582343\n",
      "Amplitude: -0.27349305365978704, Period: 0.5325792813901044, Constant: 0.971476129094071, Error: 3.6660517624588183\n",
      "Amplitude: -0.27665413327646504, Period: 0.5333640319748201, Constant: 0.9711963903777617, Error: 3.77505641564461\n",
      "Amplitude: -0.28116559274751907, Period: 0.53425142183073, Constant: 0.9709109387478384, Error: 4.049736096654815\n",
      "Amplitude: -0.28363038374354316, Period: 0.5353801766838967, Constant: 0.9707118780753051, Error: 4.021490163875633\n",
      "Amplitude: -0.28501618581541655, Period: 0.5362647699861137, Constant: 0.9704067896772653, Error: 3.923646758837342\n",
      "Amplitude: -0.2891334099897614, Period: 0.5368525111305913, Constant: 0.9700182430412846, Error: 3.666561709910319\n",
      "Amplitude: -0.29157917613992956, Period: 0.5376485049746429, Constant: 0.9696872872167306, Error: 3.8385799002117604\n",
      "Amplitude: -0.2925686613724851, Period: 0.5395496969644452, Constant: 0.9698707746703842, Error: 3.8225333248334814\n",
      "Amplitude: -0.2958664056704934, Period: 0.5406460433457331, Constant: 0.9696744363191534, Error: 3.838952430830576\n",
      "Amplitude: -0.2999282323276899, Period: 0.5409726368157283, Constant: 0.9691002484494473, Error: 3.7772836319579723\n",
      "Amplitude: -0.3048031569105662, Period: 0.541630723843095, Constant: 0.9686580657679282, Error: 3.9783714443987095\n",
      "Amplitude: -0.3063547797325454, Period: 0.5425164400779677, Constant: 0.9683160240599693, Error: 3.811730769972193\n",
      "Amplitude: -0.31037660915946297, Period: 0.5434895108926676, Constant: 0.9680530767875577, Error: 3.710142436256993\n",
      "Amplitude: -0.31041569191618396, Period: 0.5451193701402586, Constant: 0.9680044200047054, Error: 3.9157638223037217\n",
      "Amplitude: -0.31309300133193746, Period: 0.546822524541119, Constant: 0.9680475832926675, Error: 3.8371769016346797\n",
      "Amplitude: -0.3136504391369766, Period: 0.548153730832686, Constant: 0.9678430707758394, Error: 3.9771601640264342\n",
      "Amplitude: -0.3140249260560827, Period: 0.550178091560971, Constant: 0.9680174869921058, Error: 3.7907567358798127\n",
      "Amplitude: -0.31467418712534084, Period: 0.5505769791983756, Constant: 0.9674038868490314, Error: 3.778165323324894\n",
      "Amplitude: -0.31878333796773206, Period: 0.5512128829642364, Constant: 0.9669708784631837, Error: 3.5821805282880934\n",
      "Amplitude: -0.3205091357231052, Period: 0.5525363386403813, Constant: 0.9667997862074529, Error: 3.81163495471983\n",
      "Amplitude: -0.3229697066619924, Period: 0.5533566620211946, Constant: 0.9663291638225602, Error: 3.994356353201975\n",
      "Amplitude: -0.3237448616629035, Period: 0.5544697736215052, Constant: 0.9660484291989478, Error: 3.688338699522446\n",
      "Amplitude: -0.32425085987644425, Period: 0.556461525422299, Constant: 0.9661508615632772, Error: 3.848658068351312\n",
      "Amplitude: -0.32360915907441606, Period: 0.5576274177453725, Constant: 0.965831716624836, Error: 3.9381749278594707\n",
      "Amplitude: -0.3259595016870862, Period: 0.5592823928048352, Constant: 0.9657775425750802, Error: 3.89044662230488\n",
      "Amplitude: -0.3251981029715634, Period: 0.5611914333761441, Constant: 0.9658149887331773, Error: 3.8659812644024516\n",
      "Amplitude: -0.32653989455039084, Period: 0.5626624880364097, Constant: 0.9656898996236154, Error: 3.7416775257844237\n",
      "Amplitude: -0.32879506742353326, Period: 0.564449823641726, Constant: 0.9656188663417492, Error: 4.056310626586142\n",
      "Amplitude: -0.331380794258098, Period: 0.5652026578931155, Constant: 0.9651018775850992, Error: 3.9164183564305324\n",
      "Amplitude: -0.3351160469877556, Period: 0.5656545896086969, Constant: 0.9644828857637039, Error: 3.73493690797216\n",
      "Amplitude: -0.3328232071404115, Period: 0.5678601481669113, Constant: 0.9646135381386461, Error: 3.9123712866204206\n",
      "Amplitude: -0.333769684035698, Period: 0.5697137937124421, Constant: 0.9646370200605677, Error: 3.7900289407572725\n",
      "Amplitude: -0.3358014727530475, Period: 0.5707914274542029, Constant: 0.9642970030252787, Error: 3.6791658520719603\n",
      "Amplitude: -0.3366807706767995, Period: 0.5725536466372461, Constant: 0.9641801775993635, Error: 4.097124544180229\n",
      "Amplitude: -0.3396409566597344, Period: 0.5737204786970884, Constant: 0.9638318778737697, Error: 3.934798761719593\n",
      "Amplitude: -0.3429949477637516, Period: 0.5744845466911198, Constant: 0.9633311174304712, Error: 3.708392438560965\n",
      "Amplitude: -0.3439756956129321, Period: 0.5756357896175988, Constant: 0.9628697414973021, Error: 4.208194587261448\n",
      "Amplitude: -0.34491529734379234, Period: 0.5778074056480851, Constant: 0.9629483312150678, Error: 3.9908840012333773\n"
     ]
    },
    {
     "name": "stdout",
     "output_type": "stream",
     "text": [
      "Amplitude: -0.34830902159992794, Period: 0.5792508430561223, Constant: 0.962702933830903, Error: 3.901040787784594\n",
      "Amplitude: -0.3487719773152773, Period: 0.5816568476721861, Constant: 0.9629150849856113, Error: 3.833276770757517\n",
      "Amplitude: -0.3530519227877521, Period: 0.5820297868447329, Constant: 0.9622046856723536, Error: 3.709894323548775\n",
      "Amplitude: -0.3535384225084783, Period: 0.583905077096535, Constant: 0.96211107866868, Error: 3.996306304616081\n",
      "Amplitude: -0.3583497046638812, Period: 0.5846793982533486, Constant: 0.9614834880269325, Error: 4.08943205684907\n",
      "Amplitude: -0.3604182157305397, Period: 0.5861021255761019, Constant: 0.9612156198537349, Error: 3.8182204408820937\n",
      "Amplitude: -0.35978413108607676, Period: 0.5873394354680707, Constant: 0.960765823999168, Error: 3.9784857841495715\n",
      "Amplitude: -0.36019100182168495, Period: 0.5895872872728121, Constant: 0.9608081648279476, Error: 3.9760083901819727\n",
      "Amplitude: -0.35970932343931217, Period: 0.5915713227373616, Constant: 0.9607631385510784, Error: 3.822505479890194\n",
      "Amplitude: -0.3643029237306818, Period: 0.5925948050772762, Constant: 0.9602816177529357, Error: 3.8185636083845726\n",
      "Amplitude: -0.36599754764102166, Period: 0.5942986114587225, Constant: 0.9600515124091564, Error: 3.9962061106949354\n",
      "Amplitude: -0.36575588079057353, Period: 0.5956480185511983, Constant: 0.9597371978997784, Error: 3.6541210309970964\n",
      "Amplitude: -0.3690784698795877, Period: 0.5967582085511884, Constant: 0.959233457416355, Error: 3.9202520358363304\n",
      "Amplitude: -0.3707661434921861, Period: 0.5986155889798577, Constant: 0.9591459367268843, Error: 3.7265676210270207\n",
      "Amplitude: -0.37300593843739094, Period: 0.6002277650360965, Constant: 0.9588967302818022, Error: 3.885262874952055\n",
      "Amplitude: -0.3737959644444876, Period: 0.6025436821856216, Constant: 0.9590164917341, Error: 3.667719909672089\n",
      "Amplitude: -0.37630146083709226, Period: 0.6042844633239073, Constant: 0.9588148864791416, Error: 3.8506928350613228\n",
      "Amplitude: -0.37606796024987765, Period: 0.6066067196634849, Constant: 0.9589099776405171, Error: 3.690851733326816\n",
      "Amplitude: -0.375743922547279, Period: 0.6079519086026653, Constant: 0.9585070897317922, Error: 3.8585139119946694\n",
      "Amplitude: -0.3787901165755929, Period: 0.6085270152448171, Constant: 0.9577296310542119, Error: 3.9006815482751507\n",
      "Amplitude: -0.3787672590210916, Period: 0.6104457271741126, Constant: 0.9575524493029752, Error: 3.914142249604001\n",
      "Amplitude: -0.3808261360379842, Period: 0.6126549605559195, Constant: 0.9574858787191395, Error: 4.031011515302465\n",
      "Amplitude: -0.37900171220239515, Period: 0.6149564431195599, Constant: 0.9575082615909878, Error: 3.8136078225462677\n",
      "Amplitude: -0.3786634508214388, Period: 0.6179965788238776, Constant: 0.9579117968610559, Error: 3.7626517254781158\n",
      "Amplitude: -0.37879295851544315, Period: 0.6200361744252836, Constant: 0.9578070049681945, Error: 3.8495192924204322\n",
      "Amplitude: -0.3783056320381488, Period: 0.6214605740535895, Constant: 0.957417705572006, Error: 3.8115120042332196\n",
      "Amplitude: -0.38003763805158536, Period: 0.6225427591386062, Constant: 0.9569507292178114, Error: 3.5912734095253533\n",
      "Amplitude: -0.38017788590835344, Period: 0.6252982595825936, Constant: 0.957194282984154, Error: 3.77826791797138\n",
      "Amplitude: -0.3807732032294959, Period: 0.6260413357643002, Constant: 0.956435573448548, Error: 4.040631759849042\n",
      "Amplitude: -0.37935653246113954, Period: 0.6287162480900151, Constant: 0.9566398471227902, Error: 3.779591763898856\n",
      "Amplitude: -0.3814571050784909, Period: 0.6306183687052661, Constant: 0.9564689741902511, Error: 3.837860240900329\n",
      "Amplitude: -0.3841937960107764, Period: 0.6310513002363023, Constant: 0.9555662442940922, Error: 3.958742751702703\n",
      "Amplitude: -0.3844850036729058, Period: 0.632581616715899, Constant: 0.9552150718907708, Error: 3.758413802844258\n",
      "Amplitude: -0.3874565114299755, Period: 0.6338534406620973, Constant: 0.9547200804728935, Error: 3.830321920898127\n",
      "Amplitude: -0.3880343816428125, Period: 0.6357977689815635, Constant: 0.9545770310529056, Error: 3.7160582824902115\n",
      "Amplitude: -0.3909107664803276, Period: 0.6379887164501933, Constant: 0.9545242955120365, Error: 3.70503550515795\n",
      "Amplitude: -0.39207438263502487, Period: 0.6390901381085983, Constant: 0.9539207650318511, Error: 3.8315719978801104\n",
      "Amplitude: -0.3951317121171557, Period: 0.6401044936730407, Constant: 0.953292849471058, Error: 3.7350534559194353\n",
      "Amplitude: -0.3975927345982208, Period: 0.6414762193990784, Constant: 0.9527682513834808, Error: 3.872254788017262\n",
      "Amplitude: -0.3973468472519514, Period: 0.6428474672810446, Constant: 0.9522898582654156, Error: 3.7633925873080334\n",
      "Amplitude: -0.3984372584898544, Period: 0.6443151402714157, Constant: 0.9518649487275763, Error: 3.734082884475731\n",
      "Amplitude: -0.40154966297206285, Period: 0.6454851188544464, Constant: 0.9512109725951585, Error: 3.987824441184246\n",
      "Amplitude: -0.4034023827122361, Period: 0.6471098316597428, Constant: 0.950851117782142, Error: 3.679744670220493\n",
      "Amplitude: -0.40336838656711366, Period: 0.6506986801374154, Constant: 0.9514033169388745, Error: 3.6917382012976367\n",
      "Amplitude: -0.4027184751227674, Period: 0.653027526034334, Constant: 0.9513264418627176, Error: 3.851077638556866\n",
      "Amplitude: -0.4042538379756693, Period: 0.6541768423865446, Constant: 0.9506816474230588, Error: 3.8581504307015417\n",
      "Amplitude: -0.4055167680262105, Period: 0.6562639549901961, Constant: 0.950452987278944, Error: 3.93232268038471\n",
      "Amplitude: -0.40702100384843604, Period: 0.6582701654481492, Constant: 0.9501938294025346, Error: 3.8991040004939768\n",
      "Amplitude: -0.40599974443613457, Period: 0.6610366294981403, Constant: 0.9502159321108182, Error: 4.089326822878535\n",
      "Amplitude: -0.4065728190952743, Period: 0.6636575676591232, Constant: 0.9502392899838865, Error: 3.8529346543791525\n",
      "Amplitude: -0.4068914283370818, Period: 0.667240896327445, Constant: 0.9507081245360061, Error: 3.8912870749805726\n",
      "Amplitude: -0.4085958922750012, Period: 0.6683717917970595, Constant: 0.9499915087372705, Error: 4.016156806720542\n",
      "Amplitude: -0.4107446258864696, Period: 0.669274242787092, Constant: 0.949228809880043, Error: 3.804347836912621\n",
      "Amplitude: -0.4106962513021221, Period: 0.671614224840235, Constant: 0.9491239330899607, Error: 3.7953768807985564\n",
      "Amplitude: -0.4107975656966942, Period: 0.6743001604303125, Constant: 0.9491742159466088, Error: 3.7717871218018253\n",
      "Amplitude: -0.413599630437189, Period: 0.6742091575697456, Constant: 0.9479265334588801, Error: 3.7502231171820086\n",
      "Amplitude: -0.41604511592502413, Period: 0.6755865952912508, Constant: 0.9473765615988211, Error: 3.775392935968016\n",
      "Amplitude: -0.41997160628298025, Period: 0.6756336714515109, Constant: 0.9462048283625305, Error: 3.6256218758659657\n",
      "Amplitude: -0.4221585272847704, Period: 0.6779612686400158, Constant: 0.946043776231648, Error: 3.776977226810058\n",
      "Amplitude: -0.42551025869758946, Period: 0.6789919461139047, Constant: 0.94524211593587, Error: 3.854777068635561\n",
      "Amplitude: -0.4267987744738064, Period: 0.6802270813276636, Constant: 0.9445692794599932, Error: 3.7772746551723033\n",
      "Amplitude: -0.4265980739296662, Period: 0.6831173608681328, Constant: 0.944633948264307, Error: 3.901241708530499\n",
      "Amplitude: -0.4301756808940755, Period: 0.6845826203527657, Constant: 0.9438972627923768, Error: 4.106864363627958\n",
      "Amplitude: -0.43092494215282034, Period: 0.6868029763892184, Constant: 0.9436312506203351, Error: 3.876626260564832\n",
      "Amplitude: -0.4287637324889891, Period: 0.6900176304630677, Constant: 0.9438107834200355, Error: 4.037740864902946\n",
      "Amplitude: -0.42772071539208706, Period: 0.6938934276681127, Constant: 0.9442993954237072, Error: 3.999830218276987\n",
      "Amplitude: -0.4262595582373626, Period: 0.6961659589415419, Constant: 0.9441102550880802, Error: 3.815148992490681\n",
      "Amplitude: -0.4273934970271488, Period: 0.6979517458661956, Constant: 0.94370549544903, Error: 3.671955362346724\n",
      "Amplitude: -0.4307201817636791, Period: 0.7006918137757631, Constant: 0.9436855414572841, Error: 3.7131969921191406\n",
      "Amplitude: -0.43325989708864393, Period: 0.7009948730796106, Constant: 0.9425595090469774, Error: 3.73629280505626\n",
      "Amplitude: -0.43286794314048654, Period: 0.7036057859155646, Constant: 0.9424524313263246, Error: 3.914242595152414\n",
      "Amplitude: -0.4336714798180176, Period: 0.706716632103731, Constant: 0.9425445605410477, Error: 3.9324710597613097\n",
      "Amplitude: -0.43727016283776565, Period: 0.7068732049957034, Constant: 0.9412175761382096, Error: 3.966225821852708\n"
     ]
    },
    {
     "name": "stdout",
     "output_type": "stream",
     "text": [
      "Amplitude: -0.44044954253251534, Period: 0.7060556434109669, Constant: 0.9395215408442461, Error: 3.7582050255599366\n",
      "Amplitude: -0.4392737810939796, Period: 0.7080416595364271, Constant: 0.9391466649061063, Error: 3.8151717793226174\n",
      "Amplitude: -0.4421878588602618, Period: 0.7087249227953175, Constant: 0.9382450635087725, Error: 3.4762217694410453\n",
      "Amplitude: -0.4401656991518794, Period: 0.7111229938055887, Constant: 0.9379635284679423, Error: 4.1013337806095\n",
      "Amplitude: -0.4421645546808073, Period: 0.7120155978016616, Constant: 0.9370382398893105, Error: 3.78734216124996\n",
      "Amplitude: -0.445666255915916, Period: 0.7140458244678018, Constant: 0.9366382054254233, Error: 3.710702024180225\n",
      "Amplitude: -0.446178171393409, Period: 0.7148290966737681, Constant: 0.935637505565483, Error: 3.885988009366519\n",
      "Amplitude: -0.4484540335622623, Period: 0.7152500326681837, Constant: 0.9345459315424229, Error: 3.6296765976549525\n",
      "Amplitude: -0.45010163114874774, Period: 0.7160122478482245, Constant: 0.9335550576473788, Error: 3.730034579808258\n",
      "Amplitude: -0.45032774877855986, Period: 0.7186830776682547, Constant: 0.933462375539972, Error: 3.7939025458555684\n",
      "Amplitude: -0.45535622060683467, Period: 0.7194791443288068, Constant: 0.9324206391220521, Error: 3.71139770429773\n",
      "Amplitude: -0.45771023042238607, Period: 0.7202747665948155, Constant: 0.931347776639423, Error: 3.9508545892111426\n",
      "Amplitude: -0.45956147927072905, Period: 0.7222221114342285, Constant: 0.9309357333954306, Error: 3.6282614379034186\n",
      "Amplitude: -0.45870565541778996, Period: 0.72478725484693, Constant: 0.9306650648125313, Error: 4.022718534958693\n",
      "Amplitude: -0.46117213644483945, Period: 0.7258085267436895, Constant: 0.9298024132665177, Error: 3.5885562666556896\n",
      "Amplitude: -0.46130397696721237, Period: 0.727871969534031, Constant: 0.9293137264374116, Error: 3.9356391529989394\n",
      "Amplitude: -0.46230563093708515, Period: 0.7300084811524592, Constant: 0.9288692660965534, Error: 3.8697538088538845\n",
      "Amplitude: -0.4607469657232412, Period: 0.733486463195923, Constant: 0.9290178858356424, Error: 4.06435386785087\n",
      "Amplitude: -0.46338357601057556, Period: 0.7345049401379158, Constant: 0.927982724587564, Error: 3.933526414417662\n",
      "Amplitude: -0.4607332125484817, Period: 0.7360723324139175, Constant: 0.927350751163602, Error: 3.8311531397365863\n",
      "Amplitude: -0.46107705796166487, Period: 0.7388633751564117, Constant: 0.9272575676698449, Error: 3.724342114339977\n",
      "Amplitude: -0.46328261498416284, Period: 0.740171958975881, Constant: 0.9264201994107842, Error: 3.747210035086928\n",
      "Amplitude: -0.46364218477413577, Period: 0.7418878120607896, Constant: 0.9257682123889392, Error: 3.9061409209911893\n",
      "Amplitude: -0.4646148654877802, Period: 0.7432743015350016, Constant: 0.9249347664585704, Error: 3.945352588608666\n",
      "Amplitude: -0.46320075235183683, Period: 0.745546851795922, Constant: 0.9245936226167157, Error: 3.8203723379388697\n",
      "Amplitude: -0.46388368194599466, Period: 0.7481447659006569, Constant: 0.9242927580503023, Error: 3.962391811125624\n",
      "Amplitude: -0.4638213475392869, Period: 0.7506340009426552, Constant: 0.9240444739184854, Error: 3.799333294519477\n",
      "Amplitude: -0.463644218336103, Period: 0.7535228349941169, Constant: 0.9239172446179764, Error: 3.8635520619766868\n",
      "Amplitude: -0.46594584240733894, Period: 0.7548154618096431, Constant: 0.9229390545110525, Error: 4.031709966844013\n",
      "Amplitude: -0.46993847286924195, Period: 0.7562466740035169, Constant: 0.9220167737897205, Error: 3.9072154746600978\n",
      "Amplitude: -0.4708872675716934, Period: 0.758081588229323, Constant: 0.9214628589906046, Error: 3.6250751393441125\n",
      "Amplitude: -0.4734067851345245, Period: 0.7596983658370969, Constant: 0.9208004365888223, Error: 3.525764574960143\n",
      "Amplitude: -0.47443170530903006, Period: 0.7614523056768608, Constant: 0.9201265382272704, Error: 3.803568436047189\n",
      "Amplitude: -0.4770927728869367, Period: 0.761587218530745, Constant: 0.9186597574745883, Error: 3.8164204060511837\n",
      "Amplitude: -0.4786397747591158, Period: 0.7631462766858518, Constant: 0.9178693210294797, Error: 3.8012923539504455\n",
      "Amplitude: -0.48190697054975107, Period: 0.7640978500297307, Constant: 0.9168005098353037, Error: 3.6755781344180405\n",
      "Amplitude: -0.4833068458578316, Period: 0.7644015235023814, Constant: 0.9155097264789204, Error: 3.629712459926539\n",
      "Amplitude: -0.4851267603366852, Period: 0.7648889776374024, Constant: 0.9141568140569172, Error: 3.9479078996309727\n",
      "Amplitude: -0.4867645247894612, Period: 0.7664174942987748, Constant: 0.9134091631635813, Error: 3.6375527455489243\n",
      "Amplitude: -0.4858684954890792, Period: 0.7687807881406528, Constant: 0.912994760925889, Error: 3.8895317713672606\n",
      "Amplitude: -0.4858139509789457, Period: 0.771149256313498, Constant: 0.9125721886844982, Error: 3.8288417499351333\n",
      "Amplitude: -0.4877263290338735, Period: 0.7717348612506758, Constant: 0.9113442004408904, Error: 3.6852040794146474\n",
      "Amplitude: -0.48856616246389056, Period: 0.7729842412867728, Constant: 0.9102760768866784, Error: 4.039877092519997\n",
      "Amplitude: -0.49052407556777183, Period: 0.771748199167719, Constant: 0.9080995001287769, Error: 3.8996862987691174\n",
      "Amplitude: -0.4925107773143297, Period: 0.7742888983956784, Constant: 0.9076541865552162, Error: 3.8326920643815323\n",
      "Amplitude: -0.49295681132485014, Period: 0.7758187146817628, Constant: 0.9067880758336614, Error: 3.8477001221478333\n",
      "Amplitude: -0.4954268001896707, Period: 0.7760144368265542, Constant: 0.905314240007789, Error: 3.6859787390070626\n",
      "Amplitude: -0.495173492765516, Period: 0.7783483088886318, Constant: 0.9048290106920645, Error: 3.8475850476154903\n",
      "Amplitude: -0.49744590119151266, Period: 0.7792997109324791, Constant: 0.9036172629355598, Error: 3.8882352964611773\n",
      "Amplitude: -0.49986396611938794, Period: 0.7817044022846045, Constant: 0.9031032000166868, Error: 3.825375270158546\n",
      "Amplitude: -0.4997135240223792, Period: 0.7836828435823806, Constant: 0.9023930244170982, Error: 3.968439072033717\n",
      "Amplitude: -0.5031770791729627, Period: 0.783842558757296, Constant: 0.9008335871044315, Error: 3.7313987372359323\n",
      "Amplitude: -0.5059174009069555, Period: 0.7838488128887815, Constant: 0.899239387278869, Error: 3.7335115045875567\n",
      "Amplitude: -0.5074095273207351, Period: 0.7861225797973174, Constant: 0.8986956974722824, Error: 3.716500566991502\n",
      "Amplitude: -0.5088936604575328, Period: 0.7869256313535823, Constant: 0.8974293865905261, Error: 3.7823995292495165\n",
      "Amplitude: -0.5085906684007719, Period: 0.7878128379522442, Constant: 0.896192169724452, Error: 3.93259712933287\n",
      "Amplitude: -0.509610666273649, Period: 0.7888221583201767, Constant: 0.8950199646816214, Error: 3.9126281394451943\n",
      "Amplitude: -0.510194851549645, Period: 0.7910845674390304, Constant: 0.8943707849038425, Error: 3.9441656589936738\n",
      "Amplitude: -0.5108837058086351, Period: 0.7956485695509063, Constant: 0.8947591459499045, Error: 3.9303141385056577\n",
      "Amplitude: -0.5144343218744893, Period: 0.7948409913569712, Constant: 0.8926717392969326, Error: 3.8602411150926144\n",
      "Amplitude: -0.5166133388915382, Period: 0.7953233074883358, Constant: 0.8912755911520852, Error: 3.6340219460411\n",
      "Amplitude: -0.5174506542164777, Period: 0.7969331270240986, Constant: 0.8903830141891049, Error: 3.7532466771800475\n",
      "Amplitude: -0.5179457601865872, Period: 0.7991222635745809, Constant: 0.8897448060556877, Error: 3.826000243611407\n",
      "Amplitude: -0.5176193548704892, Period: 0.8030165060398109, Constant: 0.8897776122341081, Error: 3.990667416601987\n",
      "Amplitude: -0.5167106127156511, Period: 0.8046815398768825, Constant: 0.8889482993931839, Error: 3.796559885815968\n",
      "Amplitude: -0.5184798895874122, Period: 0.806111062919296, Constant: 0.8879338441706238, Error: 3.7591334484234693\n",
      "Amplitude: -0.5200674097515844, Period: 0.8084079808396116, Constant: 0.8872535292811211, Error: 3.9097557515465895\n",
      "Amplitude: -0.5202962428419466, Period: 0.812268166175738, Constant: 0.8873773763205185, Error: 3.8103628293203107\n",
      "Amplitude: -0.5220788168378776, Period: 0.8110927369907799, Constant: 0.8851050600402307, Error: 3.8590655810387844\n",
      "Amplitude: -0.5239609432067953, Period: 0.8123960539309129, Constant: 0.8839964811884194, Error: 3.780469246590148\n",
      "Amplitude: -0.5234922567076915, Period: 0.8140403669146008, Constant: 0.8830719754050433, Error: 3.864986934389962\n",
      "Amplitude: -0.5252384162586252, Period: 0.8147960602016668, Constant: 0.8818210299237088, Error: 3.5233690630362844\n",
      "Amplitude: -0.525961353858567, Period: 0.8159531828185045, Constant: 0.8807004461703295, Error: 3.7199506188992526\n",
      "Amplitude: -0.5291711006100177, Period: 0.8170152492030979, Constant: 0.8794334863175275, Error: 3.743344701816705\n",
      "Amplitude: -0.5311000788102744, Period: 0.8172149965273743, Constant: 0.8778266628646906, Error: 3.664519313171011\n",
      "Amplitude: -0.528925950941074, Period: 0.8205539732675451, Constant: 0.8775999971147779, Error: 4.103538014116183\n"
     ]
    },
    {
     "name": "stdout",
     "output_type": "stream",
     "text": [
      "Amplitude: -0.5301273896825824, Period: 0.8216718572844784, Constant: 0.876394074496381, Error: 3.81655721989603\n",
      "Amplitude: -0.5308329373423967, Period: 0.8234047059467821, Constant: 0.8753793399578983, Error: 4.002169529947057\n",
      "Amplitude: -0.5321195880773579, Period: 0.8249375537325191, Constant: 0.8743328585516372, Error: 3.7822103329072005\n",
      "Amplitude: -0.5328290470091399, Period: 0.826499958020813, Constant: 0.8732937164880822, Error: 3.881627847742675\n",
      "Amplitude: -0.5345837797187561, Period: 0.8261948285984385, Constant: 0.8713655493644331, Error: 3.8596356386136685\n",
      "Amplitude: -0.5368593642525059, Period: 0.8258595048548065, Constant: 0.8693662806193158, Error: 3.9141187449315176\n",
      "Amplitude: -0.5379350767049111, Period: 0.8280950414553306, Constant: 0.8686433134365038, Error: 3.7719516425147632\n",
      "Amplitude: -0.5377502528095521, Period: 0.8274328377031107, Constant: 0.8666378342049424, Error: 3.7109779401613237\n",
      "Amplitude: -0.5361572693262209, Period: 0.8289362981855449, Constant: 0.8656336524467607, Error: 3.7899481343949115\n",
      "Amplitude: -0.5351649875763707, Period: 0.8326240997835582, Constant: 0.8655005118647251, Error: 4.023568199200385\n",
      "Amplitude: -0.5375180515795669, Period: 0.8334606755064512, Constant: 0.8641206495821958, Error: 3.702106393566318\n",
      "Amplitude: -0.5399772024450324, Period: 0.8332535955358386, Constant: 0.8621517361172818, Error: 3.8734243629886245\n",
      "Amplitude: -0.5421629066161229, Period: 0.8332802118468547, Constant: 0.8603151078032146, Error: 3.806715723135398\n",
      "Amplitude: -0.5435784884014655, Period: 0.8346901425165292, Constant: 0.8591652903764765, Error: 3.718194923591924\n",
      "Amplitude: -0.5430267793130548, Period: 0.8343512113150712, Constant: 0.8572483996422664, Error: 3.791251818028454\n",
      "Amplitude: -0.545320700075004, Period: 0.833760715614238, Constant: 0.8552056587761402, Error: 3.6683422456326076\n",
      "Amplitude: -0.5474199339922456, Period: 0.8346397971428097, Constant: 0.8537455132472513, Error: 3.7868555444730463\n",
      "Amplitude: -0.5480091933533076, Period: 0.8379593942472054, Constant: 0.8534104921644732, Error: 3.8702162292479008\n",
      "Amplitude: -0.5465689143069143, Period: 0.8417358323614773, Constant: 0.853279007979142, Error: 4.047087174619325\n",
      "Amplitude: -0.5486517075538715, Period: 0.8422636709176491, Constant: 0.8517012262306689, Error: 3.7070273516934713\n",
      "Amplitude: -0.548237771260517, Period: 0.8462696910559745, Constant: 0.8518632109110225, Error: 3.6217304781836512\n",
      "Amplitude: -0.5495383443497691, Period: 0.846165908294329, Constant: 0.8499030835715095, Error: 3.908775460094654\n",
      "Amplitude: -0.5532944178530353, Period: 0.8467038412400228, Constant: 0.8481737455499423, Error: 3.855818546815444\n",
      "Amplitude: -0.553580586019485, Period: 0.849592570076387, Constant: 0.8476150733645736, Error: 3.898387669588954\n",
      "Amplitude: -0.5527276776605018, Period: 0.8513602968545843, Constant: 0.8464912740181435, Error: 4.097573057890927\n",
      "Amplitude: -0.5537771464884788, Period: 0.851932825604256, Constant: 0.8449067720358469, Error: 3.8065596168703064\n",
      "Amplitude: -0.5546400721461838, Period: 0.854984376100674, Constant: 0.8444280578670423, Error: 3.814012949886133\n",
      "Amplitude: -0.5564994659398249, Period: 0.8555653611816108, Constant: 0.8427916804434982, Error: 3.838551499989748\n",
      "Amplitude: -0.5559220343678195, Period: 0.8576453534758374, Constant: 0.8419223609464188, Error: 3.819332619215061\n",
      "Amplitude: -0.5545878786573899, Period: 0.8605669552893473, Constant: 0.84147184320958, Error: 3.746536477903188\n",
      "Amplitude: -0.5562184664144089, Period: 0.8625346716481399, Constant: 0.8405005856398969, Error: 3.739424076714896\n",
      "Amplitude: -0.5594523393022826, Period: 0.8639512606360994, Constant: 0.8392520456624902, Error: 3.68216129934307\n",
      "Amplitude: -0.5611890554164344, Period: 0.8630340746241261, Constant: 0.8369669142668873, Error: 3.6961954026707895\n",
      "Amplitude: -0.5612308977787059, Period: 0.865619114546092, Constant: 0.8362585768537038, Error: 3.8449236214902145\n",
      "Amplitude: -0.5610685624702163, Period: 0.8664432781383375, Constant: 0.8347761445019827, Error: 3.7639822275021477\n",
      "Amplitude: -0.5636307688148846, Period: 0.8656591593970433, Constant: 0.8325324747394337, Error: 3.64565436141789\n",
      "Amplitude: -0.5631847225244996, Period: 0.8677938073450984, Constant: 0.8315075762590881, Error: 4.023804946819698\n",
      "Amplitude: -0.5643569008339756, Period: 0.8677603699847103, Constant: 0.8295145389789687, Error: 3.9023927738511426\n",
      "Amplitude: -0.5646548232717182, Period: 0.8700968305749459, Constant: 0.8286039078084055, Error: 3.9240408921630805\n",
      "Amplitude: -0.5625599573412882, Period: 0.8713180296759593, Constant: 0.8272999427075437, Error: 3.8792089576062847\n",
      "Amplitude: -0.563579160206413, Period: 0.8706964094528904, Constant: 0.8252393538945849, Error: 3.5906100158648337\n",
      "Amplitude: -0.5637292503247038, Period: 0.8720374722178712, Constant: 0.8240556712344274, Error: 3.653240709204232\n",
      "Amplitude: -0.5643975849329946, Period: 0.8735896988595481, Constant: 0.8229320786538041, Error: 3.6243168446318417\n",
      "Amplitude: -0.5662083216361716, Period: 0.8742061941955028, Constant: 0.821222697788279, Error: 3.832904740800957\n",
      "Amplitude: -0.5670188736520747, Period: 0.8740409650418127, Constant: 0.8193333547484437, Error: 3.575850857526025\n",
      "Amplitude: -0.5666206969610091, Period: 0.8761973302152758, Constant: 0.8183557054223406, Error: 3.8974574138047555\n",
      "Amplitude: -0.5677142928380013, Period: 0.8784332986746289, Constant: 0.8175459925824149, Error: 3.5760132728119767\n",
      "Amplitude: -0.5658902506097712, Period: 0.8816843966412965, Constant: 0.8171088925043957, Error: 3.9478084765580883\n",
      "Amplitude: -0.5682877858368601, Period: 0.880249158700837, Constant: 0.8143432919331672, Error: 3.994386698522802\n",
      "Amplitude: -0.5673319314372602, Period: 0.8816616833379074, Constant: 0.8130805371287276, Error: 3.8128932468162433\n",
      "Amplitude: -0.5669533286745035, Period: 0.8826990654462584, Constant: 0.8116466634503579, Error: 3.8172343519193483\n",
      "Amplitude: -0.5695384045469047, Period: 0.8799904244230491, Constant: 0.808330593247764, Error: 3.8916651723990245\n",
      "Amplitude: -0.570637128923476, Period: 0.8809989979118379, Constant: 0.8067830479453749, Error: 3.88278154887219\n",
      "Amplitude: -0.5721659757163025, Period: 0.8821492119877504, Constant: 0.805430483500921, Error: 3.646465788899735\n",
      "Amplitude: -0.5720833392037199, Period: 0.8858125155662082, Constant: 0.8051178187564619, Error: 3.8490269969110997\n",
      "Amplitude: -0.5733990690337811, Period: 0.8862421484925423, Constant: 0.8033685947217767, Error: 3.6831307160728284\n",
      "Amplitude: -0.5760414839072827, Period: 0.8891455757510618, Constant: 0.8027230759084024, Error: 3.602548691077359\n",
      "Amplitude: -0.5786596051751954, Period: 0.8885988143715557, Constant: 0.8004465862683043, Error: 3.701257019632903\n",
      "Amplitude: -0.5811207900481214, Period: 0.8882727389693992, Constant: 0.7980924795411157, Error: 4.03192104039376\n",
      "Amplitude: -0.5816017344357175, Period: 0.8910532914151231, Constant: 0.7974296185434689, Error: 3.621640019008224\n",
      "Amplitude: -0.583014247033951, Period: 0.8909242552166062, Constant: 0.7952803009372804, Error: 3.8591386887027763\n",
      "Amplitude: -0.5843403725214638, Period: 0.8921835752456129, Constant: 0.7937815192218075, Error: 3.7956594315733265\n",
      "Amplitude: -0.5874199673611505, Period: 0.892959915845807, Constant: 0.7920937308928319, Error: 3.663727623606329\n",
      "Amplitude: -0.5894683344213739, Period: 0.8959715832616617, Constant: 0.7912798397180693, Error: 4.001828773572926\n",
      "Amplitude: -0.5900169700153948, Period: 0.8988974414074139, Constant: 0.7906147085785302, Error: 3.7772930663350217\n",
      "Amplitude: -0.5889498243378474, Period: 0.8993010514659691, Constant: 0.7888233691419545, Error: 3.8101169231755487\n",
      "Amplitude: -0.5891541893889108, Period: 0.9029734594740435, Constant: 0.7884156485816675, Error: 3.8750336468062296\n",
      "Amplitude: -0.5879245020798525, Period: 0.9030253605117122, Constant: 0.786437091839368, Error: 3.849375106107504\n",
      "Amplitude: -0.5881516275807829, Period: 0.9053780323812048, Constant: 0.7855481516022021, Error: 3.6444103767243625\n",
      "Amplitude: -0.5871242691371463, Period: 0.9053303804198588, Constant: 0.7835202254786147, Error: 3.828695486058034\n",
      "Amplitude: -0.5861760809760417, Period: 0.9069096292348846, Constant: 0.7822101742187149, Error: 3.858076629741564\n",
      "Amplitude: -0.5868354833467275, Period: 0.9109235019108707, Constant: 0.7818916245274284, Error: 3.9439289710765726\n",
      "Amplitude: -0.5885758591829914, Period: 0.9120443074909482, Constant: 0.7803471530927021, Error: 3.6641367540910204\n",
      "Amplitude: -0.5893025951166656, Period: 0.9129468107157007, Constant: 0.7786253612684152, Error: 3.854326205494321\n",
      "Amplitude: -0.5905048915890726, Period: 0.9180198950790736, Constant: 0.7788385653588451, Error: 3.771984117885432\n",
      "Amplitude: -0.5933153194360209, Period: 0.9195146641739793, Constant: 0.777438561957209, Error: 3.6081980217472998\n",
      "Amplitude: -0.5929182465769899, Period: 0.9184511686421432, Constant: 0.7747975950760472, Error: 3.9404091768286817\n",
      "Amplitude: -0.5952979795218998, Period: 0.9202070301701865, Constant: 0.7734823323080641, Error: 3.705175805227522\n",
      "Amplitude: -0.5954940376178091, Period: 0.9234761870898948, Constant: 0.7729076798653425, Error: 3.7546140102176193\n",
      "Amplitude: -0.5959865159770091, Period: 0.925488303177807, Constant: 0.771566151624864, Error: 4.074520502072421\n",
      "Amplitude: -0.5982432548973038, Period: 0.9261706196779302, Constant: 0.7696057529170506, Error: 3.9402758898468213\n",
      "Amplitude: -0.5987893575392219, Period: 0.9278351278293385, Constant: 0.7682608572567655, Error: 3.7316331125546935\n",
      "Amplitude: -0.599812575074143, Period: 0.9286269361094126, Constant: 0.76661907468926, Error: 3.5780464453216076\n",
      "Amplitude: -0.6019592622113173, Period: 0.9293200325722083, Constant: 0.7647122523464426, Error: 3.799421770351618\n",
      "Amplitude: -0.6037480988190188, Period: 0.9315113361416117, Constant: 0.7635380152741661, Error: 3.7832120591072953\n",
      "Amplitude: -0.6065906102775933, Period: 0.9310107251228443, Constant: 0.7611806465655707, Error: 3.582499004714352\n",
      "Amplitude: -0.6078843163161562, Period: 0.9325093113752092, Constant: 0.7597564344667964, Error: 3.6089999424287336\n",
      "Amplitude: -0.6093223338955952, Period: 0.9328860631960613, Constant: 0.7577099583313739, Error: 3.746017340022974\n",
      "Amplitude: -0.6095437331112837, Period: 0.9314187655253799, Constant: 0.7548842649524294, Error: 3.7036631487430545\n",
      "Amplitude: -0.6082823692761791, Period: 0.9304608955618598, Constant: 0.7522618367212968, Error: 3.8422392129326655\n",
      "Amplitude: -0.6095502997442427, Period: 0.930619234112206, Constant: 0.7502164143151205, Error: 3.64611325977388\n",
      "Amplitude: -0.6114420090427074, Period: 0.933342350839709, Constant: 0.7491805735592761, Error: 3.7773463698454743\n",
      "Amplitude: -0.6102688321280179, Period: 0.9374368188896494, Constant: 0.7487771504871867, Error: 3.965765924869886\n",
      "Amplitude: -0.6089829138018039, Period: 0.9374271721832075, Constant: 0.746586312289214, Error: 3.795283705826811\n",
      "Amplitude: -0.6103093059548096, Period: 0.9370746438487045, Constant: 0.7441489196165813, Error: 3.8896036898418087\n",
      "Amplitude: -0.6135424587397129, Period: 0.9390540655859935, Constant: 0.7427985983434824, Error: 3.6687675979448495\n",
      "Amplitude: -0.6120316170236946, Period: 0.9398118921504548, Constant: 0.7410373013662284, Error: 3.7069210773742007\n",
      "Amplitude: -0.6127728747830352, Period: 0.9421997046540649, Constant: 0.7400219147466243, Error: 3.621546719742437\n",
      "Amplitude: -0.6136192053951091, Period: 0.9437234747354272, Constant: 0.73844298501993, Error: 3.873112822280239\n",
      "Amplitude: -0.6156685776008811, Period: 0.9456477828769003, Constant: 0.737089174961801, Error: 3.714489504144699\n",
      "Amplitude: -0.6174969751084225, Period: 0.9466424671868615, Constant: 0.7351966943499237, Error: 3.796535708711626\n",
      "Amplitude: -0.621394723900414, Period: 0.9469311243633566, Constant: 0.7330337007073353, Error: 3.6560095028436908\n",
      "Amplitude: -0.6230907075255152, Period: 0.9486427030067084, Constant: 0.7316740919877409, Error: 3.5976654903933287\n",
      "Amplitude: -0.6245579618830212, Period: 0.9490822753842327, Constant: 0.729518854282778, Error: 3.8085484811036343\n",
      "Amplitude: -0.6256694586788181, Period: 0.95203192921868, Constant: 0.7285535563564364, Error: 3.8173506237004604\n",
      "Amplitude: -0.6285198200412101, Period: 0.9515021125480109, Constant: 0.7259610480503521, Error: 3.6952802530947126\n",
      "Amplitude: -0.627180848663831, Period: 0.951980443351738, Constant: 0.723989889399714, Error: 3.703495538072167\n",
      "Amplitude: -0.6294889396574415, Period: 0.9511625186907415, Constant: 0.7212182925007169, Error: 3.7798640823816068\n",
      "Amplitude: -0.6287321504460656, Period: 0.9509279431053579, Constant: 0.7188819961699782, Error: 3.700186717626333\n",
      "Amplitude: -0.6317314666894263, Period: 0.951895051796136, Constant: 0.7168573213587536, Error: 3.829307152973329\n",
      "Amplitude: -0.6345182584623712, Period: 0.9521473691117095, Constant: 0.7143904904314156, Error: 4.02114104163145\n",
      "Amplitude: -0.634596554323039, Period: 0.9564966766480355, Constant: 0.7140916045994358, Error: 3.7288405781472806\n",
      "Amplitude: -0.6364168613957659, Period: 0.9548153056684321, Constant: 0.7108006972818787, Error: 3.863789695917087\n"
     ]
    }
   ],
   "source": [
    "resultados, a, b, c = gradientesDecendiente(x, y, epoch=400)"
   ]
  },
  {
   "cell_type": "code",
   "execution_count": 46,
   "metadata": {},
   "outputs": [
    {
     "name": "stdout",
     "output_type": "stream",
     "text": [
      "     Amplitude    Period  Constant     Error\n",
      "0     0.446789  0.499450  0.960173  4.282519\n",
      "1     0.432521  0.500286  0.961403  4.194296\n",
      "2     0.418853  0.501130  0.962723  4.422954\n",
      "3     0.406533  0.501072  0.963575  4.368124\n",
      "4     0.393021  0.500986  0.964443  4.640056\n",
      "..         ...       ...       ...       ...\n",
      "395  -0.628732  0.950928  0.718882  3.700187\n",
      "396  -0.631731  0.951895  0.716857  3.829307\n",
      "397  -0.634518  0.952147  0.714390  4.021141\n",
      "398  -0.634597  0.956497  0.714092  3.728841\n",
      "399  -0.636417  0.954815  0.710801  3.863790\n",
      "\n",
      "[400 rows x 4 columns]\n"
     ]
    }
   ],
   "source": [
    "tablaResultados = pd.DataFrame(resultados, columns=['Amplitude', 'Period', 'Constant', 'Error'])\n",
    "print(tablaResultados)"
   ]
  },
  {
   "cell_type": "code",
   "execution_count": 50,
   "metadata": {},
   "outputs": [],
   "source": [
    "xMinima = np.min(x)\n",
    "longitud = [yPredecida(a, b, c, 0, xi) for xi in np.arange(xMinima, 20 * math.pi, 0.001).astype(np.float32)]"
   ]
  },
  {
   "cell_type": "code",
   "execution_count": 51,
   "metadata": {},
   "outputs": [
    {
     "data": {
      "text/plain": [
       "Text(0.5, 1.0, 'Señal generada')"
      ]
     },
     "execution_count": 51,
     "metadata": {},
     "output_type": "execute_result"
    },
    {
     "data": {
      "image/png": "[encoded data removed]",
      "text/plain": [
       "<Figure size 640x480 with 1 Axes>"
      ]
     },
     "metadata": {},
     "output_type": "display_data"
    }
   ],
   "source": [
    "plt.plot(np.arange(xMinima, 20 * math.pi, 0.001), longitud)\n",
    "plt.xlabel('x')\n",
    "plt.ylabel('y')\n",
    "plt.title('Señal generada')"
   ]
  },
  {
   "cell_type": "code",
   "execution_count": 52,
   "metadata": {},
   "outputs": [],
   "source": [
    "sd.play(longitud)"
   ]
  },
  {
   "cell_type": "code",
   "execution_count": null,
   "metadata": {},
   "outputs": [],
   "source": [
    "sout"
   ]
  }
 ],
 "metadata": {
  "kernelspec": {
   "display_name": "Python 3 (ipykernel)",
   "language": "python",
   "name": "python3"
  },
  "language_info": {
   "codemirror_mode": {
    "name": "ipython",
    "version": 3
   },
   "file_extension": ".py",
   "mimetype": "text/x-python",
   "name": "python",
   "nbconvert_exporter": "python",
   "pygments_lexer": "ipython3",
   "version": "3.11.2"
  }
 },
 "nbformat": 4,
 "nbformat_minor": 2
}
